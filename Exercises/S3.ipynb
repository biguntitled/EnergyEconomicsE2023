{
 "cells": [
  {
   "cell_type": "code",
   "execution_count": 1,
   "id": "a96e7f83-af67-4d8a-a08b-6ef28eb35c73",
   "metadata": {
    "tags": []
   },
   "outputs": [],
   "source": [
    "%run stdPackages.ipynb"
   ]
  },
  {
   "cell_type": "markdown",
   "id": "4858e025-1d9c-49ae-a2f1-bb1ae9bd7f41",
   "metadata": {
    "tags": []
   },
   "source": [
    "# A Basic Model of the Electricity System"
   ]
  },
  {
   "cell_type": "markdown",
   "id": "10bf7ecb-7472-405f-a2e7-fddbc52c39e2",
   "metadata": {},
   "source": [
    "In this exercise, we'll consider a basic model of the electricity system. In **Q1**, we solve a very simple model using pen and paper methods. In **Q2** we implement a simple numerical version of this, setting up the appropriate structure to solve it using the ```scipy.optimize.linprog``` method."
   ]
  },
  {
   "cell_type": "markdown",
   "id": "31349d49-9358-4041-b7de-23cbaf4a40d6",
   "metadata": {
    "tags": []
   },
   "source": [
    "## Q1. Characterize Model"
   ]
  },
  {
   "cell_type": "markdown",
   "id": "0c9f56ca-23fc-4996-8f44-dcc2ad51260f",
   "metadata": {},
   "source": [
    "Consider a stylized, static model of the electricity wholesale market where a portfolio of different dispatchable generators (indexed by $i$) competes to serve a fixed load $L$ MWh. Let $E_i$ denote the generated electricity by generator $i$ measured in MWh and $q_i$ the installed hourly generating capacity in MW. The generators use a combination of primary energy carriers (indexed by $j$) and an aggregate of other inputs ($oth$). Let $\\mu_j^i$ denote the input share of energy carrier $j$ for generator $i$ -- i.e. MWh input of energy carrier $j$ per MWh electricity output. Let $p_j^f$ denote the price of carrier $j$ measured in €/MWh. The use of primary carriers ($j$) is tied to \\CO2 emissions in fixed ratios."
   ]
  },
  {
   "cell_type": "markdown",
   "id": "367b45b9-aace-4bc6-9dbf-377720e5627d",
   "metadata": {},
   "source": [
    "### **Q1.1: Briefly explain the optimization problem in equations (1).**\n"
   ]
  },
  {
   "cell_type": "markdown",
   "id": "20b060dc",
   "metadata": {},
   "source": [
    "$$\n",
    "\\begin{align}\n",
    "    \\min   \\sum_i& c_i E_i \\tag{1a} \\\\\n",
    "    \\text{subject to }L&=\\sum_i E_i \\tag{1b} \\\\ \n",
    "    c_i &= c_i^{oth}+\\sum_j\\mu_j^i p_j^f, \\qquad \\forall i \\tag{1c}\\\\ \n",
    "    E_i &\\in[0, q_i], \\qquad \\forall i. \\tag{1d}\n",
    "\\end{align}\n",
    "$$"
   ]
  },
  {
   "cell_type": "markdown",
   "id": "db5162ca-a6c4-4be9-a9e4-0a3a2d78219c",
   "metadata": {},
   "source": [
    "**Solution:**"
   ]
  },
  {
   "cell_type": "markdown",
   "id": "b665da63-9d71-4b5b-a9d0-6b1bda93b395",
   "metadata": {},
   "source": [
    "The optimization problem minimizes system costs of serving a fixed load of $L$ MWh from a portfolio of generators $i$ given installed capacities $q_i$. "
   ]
  },
  {
   "cell_type": "markdown",
   "id": "7be57e73-06f6-4fea-997a-736e9d0e9b0d",
   "metadata": {},
   "source": [
    "### **Q1.2:**\n",
    "\n",
    "*Let $\\phi_j$ denote the emission intensity of energy carrier $j$ measured in ton CO2/MWh. Assume that we have an estimate of the social cost of carbon of $p_{CO2}$ €/ton CO2.*\n",
    "\n",
    "\n",
    "*Briefly explain the problem in equations (2). What does the new parameter $v_i$ measure?*\n",
    "\\begin{align}\n",
    "    \\min\\sum_i& \\left(c_i+v_i\\cdot p_{CO2}\\right) E_i \\tag{2a}\\\\\n",
    "    \\text{subject to }L&=\\sum_i E_i \\tag{2b} \\\\ \n",
    "    v_i &= \\sum_j\\mu_j^i\\phi_j \\tag{2c} \\\\\n",
    "    E_i &\\in[0, q_i], \\qquad \\forall i. \\tag{2d}\n",
    "\\end{align}"
   ]
  },
  {
   "cell_type": "markdown",
   "id": "c00c7dd6-806a-4182-a70e-81b7cef92f86",
   "metadata": {},
   "source": [
    "**Solution:**"
   ]
  },
  {
   "cell_type": "markdown",
   "id": "08d52432-6099-42e7-8aff-16844f700597",
   "metadata": {},
   "source": [
    "The optimization problem identifies the social optimum of the model in question Q1.1. The parameter $v_i$ measures the emission intensity of the generator $i$."
   ]
  },
  {
   "cell_type": "markdown",
   "id": "6f20e5f1-0527-432c-9142-9e40f12aa525",
   "metadata": {},
   "source": [
    "### **Q1.3**\n",
    "*Derive the first order conditions for the problem in (2b). Give a brief interpretation.*"
   ]
  },
  {
   "cell_type": "markdown",
   "id": "1efde829-00c1-4e13-b168-f70d4c4a7561",
   "metadata": {},
   "source": [
    "**Solution:**"
   ]
  },
  {
   "cell_type": "markdown",
   "id": "143fd1f6-0333-4ac0-a3af-4a2e2a04cc11",
   "metadata": {},
   "source": [
    "The Lagrangian can be written as:"
   ]
  },
  {
   "cell_type": "markdown",
   "id": "2e6cc7bc-6ef7-4679-b7ad-842ac792df31",
   "metadata": {},
   "source": [
    "\\begin{align}\n",
    "    \\mathcal{L} = - \\sum_i\\left(c_i+p_{CO2}v_i\\right)E_i+\\lambda\\left(\\sum_i E_i - L \\right)+\\sum_i\\left[\\underline{\\theta}_iE_i+\\overline{\\theta}_i\\left(q_i-E_i\\right)\\right]. \\tag{3}\n",
    "\\end{align}"
   ]
  },
  {
   "cell_type": "markdown",
   "id": "babdf3b7-838c-473f-b879-6701a6648d0f",
   "metadata": {},
   "source": [
    "The first order conditions are given by\n",
    "\\begin{align}\n",
    "    -(c_i+v_i\\cdot p_{CO2})+\\lambda+\\underline{\\theta}_i-\\overline{\\theta}_i = 0\n",
    "\\end{align}\n",
    "as well as the complementary slackness conditions\n",
    "\\begin{align}\n",
    "    \\overline{\\theta}_i\\left(q_i-E_i\\right) =&0, && q_i-E_i\\geq &0, && \\overline{\\theta}_i\\geq &0 \\\\ \n",
    "    \\underline{\\theta}_iE_i =&0, && E-i \\geq&0, && \\underline{\\theta}_i\\geq &0.\n",
    "\\end{align}\n",
    "Without the domain constraints on $E_i$, the marginal cost of using generator $i$ is given by $c_i+v_ip_{CO2}$; the marginal benefit is measured as the contribution to the equilibrium condition, $\\lambda$. If a generator is not cost-effective $(c_i+v_ip_{CO2})>\\lambda$ the lower bound is active ($E_i=0$) and $\\underline{\\theta}_i>0$. Vice versa for the upper bound $\\overline{\\theta}_i$."
   ]
  },
  {
   "cell_type": "markdown",
   "id": "0a72c87a-35b9-40e9-914b-ab2df2281574",
   "metadata": {},
   "source": [
    "### **Q1.4. Merit order curve and solution**"
   ]
  },
  {
   "cell_type": "markdown",
   "id": "5b5231a2-2b65-4035-8fab-faf171b043cc",
   "metadata": {},
   "source": [
    "The file *PS3\\_Q1_tables.xlsx* includes a small dataset with three generators. Tables 1-2 translates the names used in the data to the symbols used in the model above. \n",
    "\n",
    "| **Table 1: Symbols Dictionary** | |\n",
    "| --- | --- |\n",
    "| *Name in excel data* | *Model Symbol* |\n",
    "| FuelMix | $\\mu_j^i$ |\n",
    "| EmissionIntensity | $\\phi_j$ |\n",
    "|FuelPrice | $p_j^f$ |\n",
    "| EmissionTax | $p_{CO2}$ |\n",
    "| Load | $L$ |\n",
    "| GeneratingCapacity | $q_i$ |\n",
    "| OtherMC | $c_i^{oth}$ |\n",
    "\n",
    "| **Table 2: Index Dictionary** | |\n",
    "| --- | --- |\n",
    "| *Name in excel data* | *Model Index* |\n",
    "| BFt | $j$ |\n",
    "| id | $i$ |"
   ]
  },
  {
   "cell_type": "markdown",
   "id": "6a4502d1-edb1-4c70-b150-e5c59718ad15",
   "metadata": {},
   "source": [
    "*The following uses the package ```pyDbs``` to load and arrange the data in a simple key,value like database. It has a few methods that reads in symbols from excel and add them as pandas series with the appropriate pandas indices. This is what we use here to read in the data:*"
   ]
  },
  {
   "cell_type": "code",
   "execution_count": 2,
   "id": "66119048-dd3c-4be8-ae8a-bd706701f303",
   "metadata": {
    "tags": []
   },
   "outputs": [],
   "source": [
    "db = pyDbs.read.dbFromWB(os.path.join(d['data'], 'PS3_Q1.xlsx'),\n",
    "                        {'variables': ['Fundamentals','Load','Generator'],\n",
    "                         'variable2D': ['FuelMix'],\n",
    "                         'maps': ['GeneratorCategories']})\n",
    "pyDbs.readSets(db) # this method adds indices from the declared symbols to the database."
   ]
  },
  {
   "cell_type": "markdown",
   "id": "d59b2657-9a3c-442a-93e3-b0ca913a8126",
   "metadata": {},
   "source": [
    "*This database stores symbols in ```self.symbols```; you can get the symbols using simple 'slicing' syntax, e.g. the index for plants:*"
   ]
  },
  {
   "cell_type": "code",
   "execution_count": 3,
   "id": "84d93f3f-e2f7-4d11-b399-e3a225b1c76c",
   "metadata": {
    "tags": []
   },
   "outputs": [
    {
     "data": {
      "text/plain": [
       "Index(['A', 'B', 'C'], dtype='object', name='id')"
      ]
     },
     "execution_count": 3,
     "metadata": {},
     "output_type": "execute_result"
    }
   ],
   "source": [
    "db['id']"
   ]
  },
  {
   "cell_type": "markdown",
   "id": "67f4531d-48ce-4af4-8043-f95fffaf15a1",
   "metadata": {},
   "source": [
    "*Based on this small dataset, draw the merit-order curve and compute the solution for $E_i$ and $\\lambda$.*"
   ]
  },
  {
   "cell_type": "markdown",
   "id": "23a457ca-a167-47e2-bbf3-2e9e0422f0f6",
   "metadata": {},
   "source": [
    "**Solution:**"
   ]
  },
  {
   "cell_type": "markdown",
   "id": "8599211b-4249-46c3-b353-f8c775d26f08",
   "metadata": {},
   "source": [
    "The marginal costs for the three generators are defined by"
   ]
  },
  {
   "cell_type": "code",
   "execution_count": 4,
   "id": "f6ed76a7-14d4-4ba7-9796-bdea4e77fa03",
   "metadata": {
    "tags": []
   },
   "outputs": [
    {
     "data": {
      "text/plain": [
       "id\n",
       "A    20.009728\n",
       "B     41.33294\n",
       "C          5.0\n",
       "dtype: object"
      ]
     },
     "execution_count": 4,
     "metadata": {},
     "output_type": "execute_result"
    }
   ],
   "source": [
    "c = db['OtherMC'] + (db['FuelMix'] * db['FuelPrice']).groupby('id').sum()\n",
    "c"
   ]
  },
  {
   "cell_type": "markdown",
   "id": "dafc0113-7f6b-4df7-9136-352846e13bb9",
   "metadata": {},
   "source": [
    "The emission intensity on a plant-level is defined as:"
   ]
  },
  {
   "cell_type": "code",
   "execution_count": 5,
   "id": "6ccccf24-8814-4c12-8f0f-521e61bb8e05",
   "metadata": {
    "tags": []
   },
   "outputs": [
    {
     "data": {
      "text/plain": [
       "id\n",
       "A    0.679464\n",
       "B      0.4104\n",
       "C         0.0\n",
       "dtype: object"
      ]
     },
     "execution_count": 5,
     "metadata": {},
     "output_type": "execute_result"
    }
   ],
   "source": [
    "ν = (db['EmissionIntensity'] * db['FuelMix']).groupby('id').sum()\n",
    "ν"
   ]
  },
  {
   "cell_type": "markdown",
   "id": "535026c2-ba6f-4ecd-9008-f5bd1a66f5c5",
   "metadata": {},
   "source": [
    "With a cost of emissions of $5$ €/ton, the marginal cost including CO2 is:"
   ]
  },
  {
   "cell_type": "code",
   "execution_count": 6,
   "id": "7cab6fff-5baa-4d0a-be13-2cdee88d8a16",
   "metadata": {
    "tags": []
   },
   "outputs": [
    {
     "data": {
      "text/plain": [
       "id\n",
       "A    23.407048\n",
       "B     43.38494\n",
       "C          5.0\n",
       "dtype: object"
      ]
     },
     "execution_count": 6,
     "metadata": {},
     "output_type": "execute_result"
    }
   ],
   "source": [
    "mc = ν*db['EmissionTax'].loc['CO2'] + c\n",
    "mc"
   ]
  },
  {
   "cell_type": "markdown",
   "id": "9f0d3e2b-3894-4d02-95f1-4951a07e815d",
   "metadata": {},
   "source": [
    "The solution in this case is $E_A = 40, E_B = 0, E_C = 60$. The marginal system cost is thus roughly $23.4$ corresponding to the cost of the marginal plant $A$."
   ]
  },
  {
   "cell_type": "markdown",
   "id": "c3fe4e88-b334-4551-b4c4-a68ccfc95ab8",
   "metadata": {},
   "source": [
    "Drawing the merit-order curve (by hand) is very straightforward, but plotting it here is actually quite a cumbersome exercise. This shows one implementation:"
   ]
  },
  {
   "cell_type": "code",
   "execution_count": 7,
   "id": "2a22c69b-c601-49b5-ba79-c1a31009b857",
   "metadata": {
    "tags": []
   },
   "outputs": [],
   "source": [
    "df = pd.concat([mc.rename('mc'), db['GeneratingCapacity'].rename('q')], axis =1).sort_values(by='mc')\n",
    "df['q'] = df['q'].cumsum()\n",
    "df.loc['_0'] = [df['mc'].iloc[0], 0] \n",
    "df.loc['_E'] = [df['mc'].max()+5, df['q'][-2]+np.finfo(float).eps]\n",
    "df = df.sort_values(by=['mc','q'])\n",
    "df['aux'] = df.apply(lambda x, shift: np.roll(x, shift)+np.finfo(float).eps, shift=1)['q']\n",
    "df = pd.concat([df[['mc','q']].iloc[0:-1], df[['mc','aux']].iloc[1:].rename(columns={'aux':'q'})]).sort_values(by=['mc','q']).set_index('q')\n",
    "df.loc[0] = 0 # "
   ]
  },
  {
   "cell_type": "markdown",
   "id": "a1028357-e57b-4c36-bc80-b63e50678978",
   "metadata": {},
   "source": [
    "Plotting it:"
   ]
  },
  {
   "cell_type": "code",
   "execution_count": 13,
   "id": "7a3e4a96-dab8-4339-90b9-5c40b10d0c2a",
   "metadata": {},
   "outputs": [
    {
     "ename": "IndexError",
     "evalue": "index 8 is out of bounds for axis 0 with size 8",
     "output_type": "error",
     "traceback": [
      "\u001b[0;31m---------------------------------------------------------------------------\u001b[0m",
      "\u001b[0;31mIndexError\u001b[0m                                Traceback (most recent call last)",
      "\u001b[1;32m/Users/l/Desktop/Programming/EnergyEconomicsE2023/Exercises/S3.ipynb Cell 36\u001b[0m line \u001b[0;36m<cell line: 23>\u001b[0;34m()\u001b[0m\n\u001b[1;32m     <a href='vscode-notebook-cell:/Users/l/Desktop/Programming/EnergyEconomicsE2023/Exercises/S3.ipynb#X46sZmlsZQ%3D%3D?line=19'>20</a>\u001b[0m plt\u001b[39m.\u001b[39mannotate(\u001b[39m\"\u001b[39m\u001b[39m\"\u001b[39m,xy\u001b[39m=\u001b[39m(df\u001b[39m.\u001b[39mindex[\u001b[39m4\u001b[39m]\u001b[39m+\u001b[39m\u001b[39m1\u001b[39m, df\u001b[39m.\u001b[39miloc[\u001b[39m6\u001b[39m]\u001b[39m-\u001b[39m\u001b[39m0.5\u001b[39m), xytext\u001b[39m=\u001b[39m(df\u001b[39m.\u001b[39mindex[\u001b[39m6\u001b[39m]\u001b[39m-\u001b[39m\u001b[39m1\u001b[39m,df\u001b[39m.\u001b[39miloc[\u001b[39m6\u001b[39m]\u001b[39m-\u001b[39m\u001b[39m0.5\u001b[39m), arrowprops\u001b[39m=\u001b[39m\u001b[39mdict\u001b[39m(width\u001b[39m=\u001b[39m\u001b[39m1\u001b[39m, color\u001b[39m=\u001b[39m\u001b[39m'\u001b[39m\u001b[39mk\u001b[39m\u001b[39m'\u001b[39m, headwidth\u001b[39m=\u001b[39m\u001b[39m5\u001b[39m, headlength\u001b[39m=\u001b[39m\u001b[39m15\u001b[39m));\n\u001b[1;32m     <a href='vscode-notebook-cell:/Users/l/Desktop/Programming/EnergyEconomicsE2023/Exercises/S3.ipynb#X46sZmlsZQ%3D%3D?line=20'>21</a>\u001b[0m plt\u001b[39m.\u001b[39mannotate(\u001b[39m\"\u001b[39m\u001b[39m\"\u001b[39m,xy\u001b[39m=\u001b[39m(df\u001b[39m.\u001b[39mindex[\u001b[39m6\u001b[39m]\u001b[39m-\u001b[39m\u001b[39m1\u001b[39m, df\u001b[39m.\u001b[39miloc[\u001b[39m6\u001b[39m]\u001b[39m-\u001b[39m\u001b[39m0.5\u001b[39m), xytext\u001b[39m=\u001b[39m(df\u001b[39m.\u001b[39mindex[\u001b[39m4\u001b[39m]\u001b[39m+\u001b[39m\u001b[39m1\u001b[39m, df\u001b[39m.\u001b[39miloc[\u001b[39m6\u001b[39m]\u001b[39m-\u001b[39m\u001b[39m0.5\u001b[39m), arrowprops\u001b[39m=\u001b[39m\u001b[39mdict\u001b[39m(width\u001b[39m=\u001b[39m\u001b[39m1\u001b[39m, color\u001b[39m=\u001b[39m\u001b[39m'\u001b[39m\u001b[39mk\u001b[39m\u001b[39m'\u001b[39m, headwidth\u001b[39m=\u001b[39m\u001b[39m5\u001b[39m, headlength\u001b[39m=\u001b[39m\u001b[39m15\u001b[39m));\n\u001b[0;32m---> <a href='vscode-notebook-cell:/Users/l/Desktop/Programming/EnergyEconomicsE2023/Exercises/S3.ipynb#X46sZmlsZQ%3D%3D?line=22'>23</a>\u001b[0m plt\u001b[39m.\u001b[39mtext((df\u001b[39m.\u001b[39;49mindex[\u001b[39m8\u001b[39;49m]\u001b[39m+\u001b[39mdf\u001b[39m.\u001b[39mindex[\u001b[39m6\u001b[39m])\u001b[39m/\u001b[39m\u001b[39m2\u001b[39m\u001b[39m-\u001b[39m\u001b[39m3\u001b[39m, df\u001b[39m.\u001b[39miloc[\u001b[39m8\u001b[39m]\u001b[39m+\u001b[39m\u001b[39m0.25\u001b[39m, \u001b[39mf\u001b[39m\u001b[39m'\u001b[39m\u001b[39mBio\u001b[39m\u001b[39m'\u001b[39m)\n\u001b[1;32m     <a href='vscode-notebook-cell:/Users/l/Desktop/Programming/EnergyEconomicsE2023/Exercises/S3.ipynb#X46sZmlsZQ%3D%3D?line=23'>24</a>\u001b[0m plt\u001b[39m.\u001b[39mtext((df\u001b[39m.\u001b[39mindex[\u001b[39m8\u001b[39m]\u001b[39m+\u001b[39mdf\u001b[39m.\u001b[39mindex[\u001b[39m6\u001b[39m])\u001b[39m/\u001b[39m\u001b[39m2\u001b[39m\u001b[39m-\u001b[39m\u001b[39m2\u001b[39m, df\u001b[39m.\u001b[39miloc[\u001b[39m8\u001b[39m]\u001b[39m-\u001b[39m\u001b[39m1\u001b[39m, \u001b[39mf\u001b[39m\u001b[39m'\u001b[39m\u001b[39m$q_B$\u001b[39m\u001b[39m'\u001b[39m);\n\u001b[1;32m     <a href='vscode-notebook-cell:/Users/l/Desktop/Programming/EnergyEconomicsE2023/Exercises/S3.ipynb#X46sZmlsZQ%3D%3D?line=24'>25</a>\u001b[0m plt\u001b[39m.\u001b[39mannotate(\u001b[39m\"\u001b[39m\u001b[39m\"\u001b[39m,xy\u001b[39m=\u001b[39m(df\u001b[39m.\u001b[39mindex[\u001b[39m6\u001b[39m]\u001b[39m+\u001b[39m\u001b[39m1\u001b[39m, df\u001b[39m.\u001b[39miloc[\u001b[39m8\u001b[39m]\u001b[39m-\u001b[39m\u001b[39m0.5\u001b[39m), xytext\u001b[39m=\u001b[39m(df\u001b[39m.\u001b[39mindex[\u001b[39m8\u001b[39m]\u001b[39m-\u001b[39m\u001b[39m1\u001b[39m,df\u001b[39m.\u001b[39miloc[\u001b[39m8\u001b[39m]\u001b[39m-\u001b[39m\u001b[39m0.5\u001b[39m), arrowprops\u001b[39m=\u001b[39m\u001b[39mdict\u001b[39m(width\u001b[39m=\u001b[39m\u001b[39m1\u001b[39m, color\u001b[39m=\u001b[39m\u001b[39m'\u001b[39m\u001b[39mk\u001b[39m\u001b[39m'\u001b[39m, headwidth\u001b[39m=\u001b[39m\u001b[39m5\u001b[39m, headlength\u001b[39m=\u001b[39m\u001b[39m15\u001b[39m));\n",
      "File \u001b[0;32m~/opt/anaconda3/lib/python3.9/site-packages/pandas/core/indexes/base.py:5039\u001b[0m, in \u001b[0;36mIndex.__getitem__\u001b[0;34m(self, key)\u001b[0m\n\u001b[1;32m   5036\u001b[0m \u001b[39mif\u001b[39;00m is_integer(key) \u001b[39mor\u001b[39;00m is_float(key):\n\u001b[1;32m   5037\u001b[0m     \u001b[39m# GH#44051 exclude bool, which would return a 2d ndarray\u001b[39;00m\n\u001b[1;32m   5038\u001b[0m     key \u001b[39m=\u001b[39m com\u001b[39m.\u001b[39mcast_scalar_indexer(key, warn_float\u001b[39m=\u001b[39m\u001b[39mTrue\u001b[39;00m)\n\u001b[0;32m-> 5039\u001b[0m     \u001b[39mreturn\u001b[39;00m getitem(key)\n\u001b[1;32m   5041\u001b[0m \u001b[39mif\u001b[39;00m \u001b[39misinstance\u001b[39m(key, \u001b[39mslice\u001b[39m):\n\u001b[1;32m   5042\u001b[0m     \u001b[39m# This case is separated from the conditional above to avoid\u001b[39;00m\n\u001b[1;32m   5043\u001b[0m     \u001b[39m# pessimization com.is_bool_indexer and ndim checks.\u001b[39;00m\n\u001b[1;32m   5044\u001b[0m     result \u001b[39m=\u001b[39m getitem(key)\n",
      "\u001b[0;31mIndexError\u001b[0m: index 8 is out of bounds for axis 0 with size 8"
     ]
    },
    {
     "data": {
      "image/png": "[encoded data removed]",
      "text/plain": [
       "<Figure size 1400x800 with 1 Axes>"
      ]
     },
     "metadata": {},
     "output_type": "display_data"
    }
   ],
   "source": [
    "\n",
    "fig, ax = plt.subplots(1,1,figsize = (14,8))    \n",
    "df.plot(linewidth=3, ax=ax, legend=False);\n",
    "ax.vlines(db['Load'].sum(), 0, math.ceil(df.max())+4,linewidth=3, color = colors[1]);\n",
    "ax.set_xlabel(r'$GJ$', labelpad = 5);\n",
    "ax.set_ylabel(r'$€/$GJ', labelpad = 5);\n",
    "ax.set_xlim([0, df.index.max()-1]);\n",
    "ax.set_ylim([0, math.ceil(df.max())+4]);\n",
    "plt.text(df.index[2]/2-3, df.iloc[2]+0.25, f'Wind');\n",
    "plt.text(df.index[2]/2-2, df.iloc[2]-1, f'$q_W$');\n",
    "plt.annotate(\"\",xy=(1, df.iloc[2]-0.5), xytext=(df.index[2]-1, df.iloc[2]-0.5), arrowprops=dict(width=1, color='k', headwidth=5, headlength=15));\n",
    "plt.annotate(\"\",xy=(df.index[2]-1, df.iloc[2]-0.5), xytext=(1, df.iloc[2]-0.5), arrowprops=dict(width=1, color='k', headwidth=5, headlength=15));\n",
    "\n",
    "plt.text((df.index[4]+df.index[2])/2-3, df.iloc[4]+0.25, f'Coal')\n",
    "plt.text((df.index[4]+df.index[2])/2-2, df.iloc[4]-1, f'$q_C$');\n",
    "plt.annotate(\"\",xy=(df.index[2]+1, df.iloc[4]-0.5), xytext=(df.index[4]-1,df.iloc[4]-0.5), arrowprops=dict(width=1, color='k', headwidth=5, headlength=15));\n",
    "plt.annotate(\"\",xy=(df.index[4]-1, df.iloc[4]-0.5), xytext=(df.index[2]+1, df.iloc[4]-0.5), arrowprops=dict(width=1, color='k', headwidth=5, headlength=15));\n",
    "\n",
    "plt.text((df.index[6]+df.index[4])/2-3, df.iloc[6]+0.25, f'Gas')\n",
    "plt.text((df.index[6]+df.index[4])/2-2, df.iloc[6]-1, f'$q_G$');\n",
    "plt.annotate(\"\",xy=(df.index[4]+1, df.iloc[6]-0.5), xytext=(df.index[6]-1,df.iloc[6]-0.5), arrowprops=dict(width=1, color='k', headwidth=5, headlength=15));\n",
    "plt.annotate(\"\",xy=(df.index[6]-1, df.iloc[6]-0.5), xytext=(df.index[4]+1, df.iloc[6]-0.5), arrowprops=dict(width=1, color='k', headwidth=5, headlength=15));\n",
    "\n",
    "plt.text((df.index[8]+df.index[6])/2-3, df.iloc[8]+0.25, f'Bio')\n",
    "plt.text((df.index[8]+df.index[6])/2-2, df.iloc[8]-1, f'$q_B$');\n",
    "plt.annotate(\"\",xy=(df.index[6]+1, df.iloc[8]-0.5), xytext=(df.index[8]-1,df.iloc[8]-0.5), arrowprops=dict(width=1, color='k', headwidth=5, headlength=15));\n",
    "plt.annotate(\"\",xy=(df.index[8]-1, df.iloc[8]-0.5), xytext=(df.index[6]+1, df.iloc[8]-0.5), arrowprops=dict(width=1, color='k', headwidth=5, headlength=15));\n",
    "\n",
    "\n",
    "fig.legend(['Generation', 'Load'],loc=9,ncol=2,frameon=True)\n",
    "fig.tight_layout();\n",
    "fig.subplots_adjust(top=0.9);\n",
    "\n",
    "\n",
    "\n",
    "fig.savefig(f\"{out_folder}\\\\mBasic_MeritOrder2.pdf\",edgecolor='k')"
   ]
  },
  {
   "cell_type": "code",
   "execution_count": 11,
   "id": "65662308-3bdc-4db0-a074-8354fa7e4193",
   "metadata": {
    "tags": []
   },
   "outputs": [
    {
     "name": "stderr",
     "output_type": "stream",
     "text": [
      "findfont: Font family ['Palatino Linotype'] not found. Falling back to DejaVu Sans.\n",
      "findfont: Font family ['Palatino Linotype'] not found. Falling back to DejaVu Sans.\n"
     ]
    },
    {
     "data": {
      "image/png": "[encoded data removed]",
      "text/plain": [
       "<Figure size 1400x600 with 1 Axes>"
      ]
     },
     "metadata": {},
     "output_type": "display_data"
    }
   ],
   "source": [
    "one_graph()\n",
    "fig, ax = plt.subplots(1,1, figsize = (14,6))\n",
    "df.plot(linewidth=2, ax=ax, legend = False)\n",
    "ax.set_xlim([0, df.index.max()-1]);\n",
    "ax.set_ylim([0, math.ceil(df.max())]);\n",
    "ax.set_ylabel(\"€/GJ\" ,labelpad=10)\n",
    "fig.tight_layout()"
   ]
  },
  {
   "cell_type": "markdown",
   "id": "4bfe8c2b-8796-4e20-bc8e-951bcf8a6183",
   "metadata": {},
   "source": [
    "### **Q1.5. A Cap on Emissions**"
   ]
  },
  {
   "cell_type": "markdown",
   "id": "97fc1787-726a-4de7-b6c2-9fc07bda98a6",
   "metadata": {},
   "source": [
    "Assume that, instead of having a price on CO2 emissions $(p_{CO2})$, we implement a cap on CO2 emissions as follows:\n",
    "\\begin{align}\n",
    "    \\sum_i v_i\\cdot E_i \\leq \\overline{CO2}. \\tag{4}\n",
    "\\end{align}\n",
    "*Adjust the Lagrange in (3) appropriately and derive the first order conditions again.*"
   ]
  },
  {
   "cell_type": "markdown",
   "id": "ac6ccb53-7609-4995-b7a7-2eda6f8b2f07",
   "metadata": {},
   "source": [
    "**Solution:**"
   ]
  },
  {
   "cell_type": "markdown",
   "id": "4e1b9858-a9a0-409c-9292-5e4ab7611147",
   "metadata": {},
   "source": [
    "$$\\begin{align}\n",
    "\\mathcal{L} = - \\sum_ic_iE_i+\\lambda\\left(\\sum_i E_i - L \\right)+\\sum_i\\left[\\underline{\\theta}_iE_i+\\overline{\\theta}_i\\left(q_i-E_i\\right)\\right] + \\theta^{CO2}\\left(\\overline{CO2}-\\sum_iv_i E_i\\right).\n",
    "\\end{align}$$\n",
    "\n",
    "The first order conditions are now:\n",
    "\n",
    "$$\\begin{align}\n",
    "    -\\left(c_i+v_i\\cdot \\theta^{CO2}\\right)+\\lambda+\\underline{\\theta}_i-\\overline{\\theta}_i = 0\n",
    "\\end{align}$$\n",
    "\n",
    "as well as the complementary slackness from **Q1.3** and the complementary slackness condition on the emissions cap:\n",
    "\n",
    "\\begin{align}\n",
    "    \\theta^{CO2}(\\overline{CO2}-v_iE_i)=0, &&  \\overline{CO2}-v_iE_i\\geq 0, && \\theta^{CO2}\\geq 0.\n",
    "\\end{align}"
   ]
  },
  {
   "cell_type": "markdown",
   "id": "26bf497a-d619-4f96-a097-57f2fc6b3c9c",
   "metadata": {},
   "source": [
    "### **Q1.6. Interpretation of shadow variable $\\theta^{CO2}$**"
   ]
  },
  {
   "cell_type": "markdown",
   "id": "aaff7f38-ea86-4ae2-b4fa-682bc69f4aec",
   "metadata": {},
   "source": [
    "In **Q1.4** we used a price on\\CO2 emissions of 5€. This resulted in roughly 27.2 tonnes of CO2 emissions in optimum. Now, in the emissions cap scenario (**Q1.5**), let $\\theta^{CO2}$ denote the shadow cost of the constraint in (4) and assume that we fix the cap at $\\overline{CO2}=$25 tonnes instead. \n",
    "\n",
    "\n",
    "*Give an interpretation of what $\\theta^{CO2}$ measures. Based on the small data set, what is the value in this model with $\\overline{CO2}=$25?*"
   ]
  },
  {
   "cell_type": "markdown",
   "id": "79181af1-afbf-443a-8c00-13d97139e0d3",
   "metadata": {},
   "source": [
    "**Solution:**"
   ]
  },
  {
   "cell_type": "markdown",
   "id": "8ba23de8-b1bd-43ca-9f98-f087111013bc",
   "metadata": {},
   "source": [
    "$$\\begin{align}\n",
    "    \\dfrac{\\partial \\mathcal{L}}{\\partial \\overline{CO2}} = \\theta^{CO2},\n",
    "\\end{align}$$\n",
    "\n",
    "where $\\mathcal{L}$ coincides with the objective function in optimum. The interpretation is thus that $\\overline{\\theta}^{CO2}$ measures the change in system costs (our objective function) from marginally increasing the cap on emissions. This is also called the *marginal abatement cost*.\n",
    "\n",
    "\n",
    "\n",
    "In the small model with three generators, we can only reduce/abate emissions by switching from the coal fired plant to the less dirty natural gas plant (because the only clean wind plant is already used at full capacity). Thus, the marginal abatement cost is defined as the change in system costs that arises from using the natural gas plant (plant B) instead of the coal plant (plant A). Intuitively, this means that:\n",
    "\n",
    "$$\\begin{align}\n",
    "    \\theta^{CO2} = \\dfrac{c_B-c_A}{v_A-v_B} \\approx \\dfrac{41-20}{0.68-0.41} \\approx 78.\n",
    "\\end{align}$$\n",
    "\n",
    "Thus, the cost of reducing 1 ton of emissions is roughly 78 euros. "
   ]
  },
  {
   "cell_type": "markdown",
   "id": "7a0d2992-eec6-4fe3-9fbd-cf8ac0200516",
   "metadata": {
    "tags": []
   },
   "source": [
    "## Q2. Numerical implementation"
   ]
  },
  {
   "cell_type": "markdown",
   "id": "3341bf12-790d-4941-8803-b0b61b052acd",
   "metadata": {},
   "source": [
    "The algorithm in ```scipy.optimize.linprog``` solves what we will refer to as an \"augmented form\" of the linear program (as opposed to the \"standard form\" that does not feature explicit equality constraints):\n",
    "\n",
    "$$\\begin{align} \n",
    "    &\\min_{x}c^T\\cdot x \\tag{5a}\\\\ \n",
    "    &A_{ub}\\times x \\leq b_{ub} \\tag{5b}\\\\ \n",
    "    &A_{eq}\\times x  = b_{eq} \\tag{5c}\\\\ \n",
    "    &l\\leq x\\leq u, \\tag{5d}\n",
    "\\end{align}$$\n",
    "where: \n",
    "* $x$ is the vector of choice variables of length ($N$).\n",
    "* $c, l, u$ are coefficient vectors of the same length ($N$).\n",
    "* $b_{eq}, b_{ub}$ are coefficient vectors of lengths $N_{eq}, N_{ub}$, \n",
    "* and $A_{eq}, A_{ub}$ are coefficient matrices of sizes $(N_{eq}\\times N)$ and $(N_{ub} \\times N)$ respectively.\n",
    "\n",
    "We will generally refer to the inequality constraints $l\\leq x \\leq u$ as *domain constraints*, whereas the constraints that combine multiple variables as *variational constraints* (1B-1C). \n",
    "\n",
    "At its core, the ```scipy.optimize.linprog``` takes inputs in the form of arrays (e.g. ```np.arrays```), which means that we have to be careful with the ordering of variables and constraints: The $n$'th element in $c$ represents the same element as the $n$'th elements in $l,u$ and the $n$'th column vectors in $A_{ub}, A_{eq}$. Thus, when solving a model with many different types of constraints and variables, the task of constructing suitable vectors / matrices becomes quite cumbersome. In the simple model from **Q1**, however, it is very simple."
   ]
  },
  {
   "cell_type": "markdown",
   "id": "fa79313b-77a6-4c3f-9a47-1a8aade01293",
   "metadata": {},
   "source": [
    "### **Q2.1. Set up relevant vectors and matrices for the model in Q1.3. Solve it numerically.**"
   ]
  },
  {
   "cell_type": "markdown",
   "id": "9140b0b7-175e-4a76-a08f-3e3aca15ee1e",
   "metadata": {},
   "source": [
    "*Hint: You need to create relevant components (```c```, ```b_eq```, ```A_eq```, ```l```, ```u```) and then call*\n",
    "\n",
    "```python\n",
    "optimize.linprog(c, A_eq = A_eq, b_eq = b_eq, bounds = np.vstack([l, u]).T)\n",
    "```"
   ]
  },
  {
   "cell_type": "markdown",
   "id": "bbb5dcfd-f6e7-4b2a-9181-9b98049cc3fb",
   "metadata": {},
   "source": [
    "**Solution:**"
   ]
  },
  {
   "cell_type": "markdown",
   "id": "67ff5d2e-8437-4b80-a69b-58c08e367d35",
   "metadata": {},
   "source": [
    "We've already computed the marginal costs earlier. This is the vector ```c```:"
   ]
  },
  {
   "cell_type": "code",
   "execution_count": 14,
   "id": "f4e0ebac-f908-40d4-aee3-99539d813bc4",
   "metadata": {
    "tags": []
   },
   "outputs": [],
   "source": [
    "c = mc"
   ]
  },
  {
   "cell_type": "markdown",
   "id": "9a95c06e-fe29-4fb5-a917-94d4cdb4f35b",
   "metadata": {},
   "source": [
    "The lower bound on generation is zero for all three plants. The upper bound is the ```GeneratingCapacity```:"
   ]
  },
  {
   "cell_type": "code",
   "execution_count": 15,
   "id": "add49491-809d-4c26-a9b6-c98dd7d54918",
   "metadata": {
    "tags": []
   },
   "outputs": [],
   "source": [
    "l = np.zeros(len(mc)) # this creates a vector of three zeros\n",
    "u = db['GeneratingCapacity'] "
   ]
  },
  {
   "cell_type": "markdown",
   "id": "0af73573-f367-4cf9-aa33-e3fd1a359dfa",
   "metadata": {},
   "source": [
    "The equilibrium condition is a single condition. In vector/matrix form this translates into $b_{eq} = L$ (the fixed load) and $A_{eq} = \\begin{pmatrix} 1 & 1 & 1\\end{pmatrix}$ to indicate that each variable $(E_i$) is added with weights $1$ in the equilibrium condition."
   ]
  },
  {
   "cell_type": "code",
   "execution_count": 16,
   "id": "660d7b07-8239-4357-b41b-3fb14ee0271e",
   "metadata": {
    "tags": []
   },
   "outputs": [],
   "source": [
    "b_eq = sum(db['Load'])\n",
    "A_eq = np.ones((1,len(mc))) "
   ]
  },
  {
   "cell_type": "markdown",
   "id": "c7c5964c-d37c-4fb3-81de-5a8d125774f7",
   "metadata": {},
   "source": [
    "We can now solve the model using the syntax:"
   ]
  },
  {
   "cell_type": "code",
   "execution_count": 17,
   "id": "21f68486-d585-4589-ae25-fcff4b396042",
   "metadata": {
    "tags": []
   },
   "outputs": [
    {
     "data": {
      "text/plain": [
       "     con: array([6.5302288e-09])\n",
       "     fun: 1236.281916640584\n",
       " message: 'Optimization terminated successfully.'\n",
       "     nit: 5\n",
       "   slack: array([], dtype=float64)\n",
       "  status: 0\n",
       " success: True\n",
       "       x: array([4.0000000e+01, 3.2098127e-11, 6.0000000e+01])"
      ]
     },
     "execution_count": 17,
     "metadata": {},
     "output_type": "execute_result"
    }
   ],
   "source": [
    "sol = optimize.linprog(c, A_eq = A_eq, b_eq = b_eq, bounds = np.vstack([l, u]).T)\n",
    "sol"
   ]
  },
  {
   "cell_type": "markdown",
   "id": "9a63774f-0517-4eed-af16-6fc3b7f883bb",
   "metadata": {},
   "source": [
    "### **Q2.2. Add the emission cap from (4) with $\\overline{CO2} = 25$ to the model and solve.**"
   ]
  },
  {
   "cell_type": "markdown",
   "id": "be21f22d-26d8-450e-8c29-073f21e8af0b",
   "metadata": {},
   "source": [
    "**Solution:**"
   ]
  },
  {
   "cell_type": "markdown",
   "id": "4ceddf6a-4dec-4ad5-8959-8d13d5bd371c",
   "metadata": {},
   "source": [
    "The emission cap is an inequality constraint with emission intensities $\\nu$ as weights in the $A_{ub}$ matrix. We computed this as a vector previously, now we need to add it as a matrix with 3 columns insted:"
   ]
  },
  {
   "cell_type": "code",
   "execution_count": 18,
   "id": "d42e4d39-d4f6-4321-804b-025bba5a5abb",
   "metadata": {
    "tags": []
   },
   "outputs": [],
   "source": [
    "b_ub = 25\n",
    "A_ub = ν.values.reshape((1,len(ν))) "
   ]
  },
  {
   "cell_type": "markdown",
   "id": "477a87db-9bf9-46f3-a642-902fa412494c",
   "metadata": {},
   "source": [
    "We can solve using the same syntax, but with added inequality constraint:"
   ]
  },
  {
   "cell_type": "code",
   "execution_count": 19,
   "id": "ff383e79-b643-4eea-b3d1-5eea3797b593",
   "metadata": {
    "tags": []
   },
   "outputs": [
    {
     "data": {
      "text/plain": [
       "     con: array([1.84230856e-07])\n",
       "     fun: 1398.0391030831072\n",
       " message: 'Optimization terminated successfully.'\n",
       "     nit: 5\n",
       "   slack: array([4.36538663e-08])\n",
       "  status: 0\n",
       " success: True\n",
       "       x: array([31.90319027,  8.09680966, 59.99999989])"
      ]
     },
     "execution_count": 19,
     "metadata": {},
     "output_type": "execute_result"
    }
   ],
   "source": [
    "sol = optimize.linprog(c, A_eq = A_eq, b_eq = b_eq, A_ub = A_ub, b_ub = b_ub, bounds = np.vstack([l, u]).T)\n",
    "sol"
   ]
  }
 ],
 "metadata": {
  "kernelspec": {
   "display_name": "Python 3 (ipykernel)",
   "language": "python",
   "name": "python3"
  },
  "language_info": {
   "codemirror_mode": {
    "name": "ipython",
    "version": 3
   },
   "file_extension": ".py",
   "mimetype": "text/x-python",
   "name": "python",
   "nbconvert_exporter": "python",
   "pygments_lexer": "ipython3",
   "version": "3.9.13"
  }
 },
 "nbformat": 4,
 "nbformat_minor": 5
}
