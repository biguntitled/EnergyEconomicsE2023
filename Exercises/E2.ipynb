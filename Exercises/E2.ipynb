{
 "cells": [
  {
   "cell_type": "code",
   "execution_count": 53,
   "id": "589e0103-619b-4259-9ad8-ec91ecedfd16",
   "metadata": {
    "tags": []
   },
   "outputs": [
    {
     "name": "stdout",
     "output_type": "stream",
     "text": [
      "The autoreload extension is already loaded. To reload it, use:\n",
      "  %reload_ext autoreload\n"
     ]
    }
   ],
   "source": [
    "%run stdPackages.ipynb"
   ]
  },
  {
   "cell_type": "markdown",
   "id": "ab2f6bf0-73d7-450d-b30c-d004c7d25d13",
   "metadata": {
    "tags": []
   },
   "source": [
    "# Marginal Abatement Costs - BYOC"
   ]
  },
  {
   "cell_type": "markdown",
   "id": "a5c4f997-d75e-4e6c-bf45-a21885709d90",
   "metadata": {},
   "source": [
    "In this exercise, we'll build our own classes to solve some of the same problems as we did in problem set 1. The notebook only contains snippet of code; it is, generally, better practice to write classes and more involved code in designated ```.py``` files. In this example, you should add it to the file ```/pyfiles/E2.py```."
   ]
  },
  {
   "cell_type": "markdown",
   "id": "dace27a0-a9e7-4c67-82df-36458254a4cb",
   "metadata": {},
   "source": [
    "*This snippet loads the classes/methods that you've defined in ```pyfiles/E2.py:```*"
   ]
  },
  {
   "cell_type": "code",
   "execution_count": 54,
   "id": "bf41a3b1-8c43-48c2-825c-61ff56db6781",
   "metadata": {
    "tags": []
   },
   "outputs": [],
   "source": [
    "os.chdir(d['curr'])\n",
    "from pyfiles.E2 import MAC, MACTech"
   ]
  },
  {
   "cell_type": "markdown",
   "id": "4f86e7dd-f307-4fd1-bcce-b739a8542a38",
   "metadata": {
    "tags": []
   },
   "source": [
    "## Q1. A Toy Model of Abatement Costs"
   ]
  },
  {
   "cell_type": "markdown",
   "id": "9cc3c3fb-6396-402b-99f0-db89007065a3",
   "metadata": {},
   "source": [
    "### **Q 1.1. Define base class**"
   ]
  },
  {
   "cell_type": "markdown",
   "id": "84186b10-5600-402a-9866-be24b4b0d5fa",
   "metadata": {},
   "source": [
    "*Define a class ```MAC``` with a constructor method (```__init__```) that:*\n",
    "1. *Adds a database attribute as ```self.db``` as a dictionary.*\n",
    "2. *Adds values for all relevant parameters to the database.*\n",
    "3. *Allow you to modify default values by passing them to the ```__init__``` method.*\n",
    "4. *Add methods that allows you to compute $C(E)$, $M(E)$, $\\tilde{C}(E), MAC(E) = (F'(E)-p_e)/\\phi$ all on grids of $E$.*\n",
    "\n",
    "*You should be able to get the value of a symbol x by calling ```self.db['x']```*"
   ]
  },
  {
   "cell_type": "code",
   "execution_count": 78,
   "id": "96963bec",
   "metadata": {},
   "outputs": [
    {
     "data": {
      "text/html": [
       "<div>\n",
       "<style scoped>\n",
       "    .dataframe tbody tr th:only-of-type {\n",
       "        vertical-align: middle;\n",
       "    }\n",
       "\n",
       "    .dataframe tbody tr th {\n",
       "        vertical-align: top;\n",
       "    }\n",
       "\n",
       "    .dataframe thead th {\n",
       "        text-align: right;\n",
       "    }\n",
       "</style>\n",
       "<table border=\"1\" class=\"dataframe\">\n",
       "  <thead>\n",
       "    <tr style=\"text-align: right;\">\n",
       "      <th></th>\n",
       "      <th>C</th>\n",
       "      <th>Ctilde</th>\n",
       "      <th>M</th>\n",
       "      <th>MAC</th>\n",
       "    </tr>\n",
       "  </thead>\n",
       "  <tbody>\n",
       "    <tr>\n",
       "      <th>0.000000</th>\n",
       "      <td>0.000000</td>\n",
       "      <td>0.000000</td>\n",
       "      <td>0.000000</td>\n",
       "      <td>NaN</td>\n",
       "    </tr>\n",
       "    <tr>\n",
       "      <th>0.001001</th>\n",
       "      <td>0.030638</td>\n",
       "      <td>0.030634</td>\n",
       "      <td>0.000250</td>\n",
       "      <td>NaN</td>\n",
       "    </tr>\n",
       "    <tr>\n",
       "      <th>0.002002</th>\n",
       "      <td>0.042742</td>\n",
       "      <td>0.042729</td>\n",
       "      <td>0.000501</td>\n",
       "      <td>NaN</td>\n",
       "    </tr>\n",
       "    <tr>\n",
       "      <th>0.003003</th>\n",
       "      <td>0.051797</td>\n",
       "      <td>0.051768</td>\n",
       "      <td>0.000751</td>\n",
       "      <td>NaN</td>\n",
       "    </tr>\n",
       "    <tr>\n",
       "      <th>0.004004</th>\n",
       "      <td>0.059273</td>\n",
       "      <td>0.059223</td>\n",
       "      <td>0.001001</td>\n",
       "      <td>NaN</td>\n",
       "    </tr>\n",
       "    <tr>\n",
       "      <th>...</th>\n",
       "      <td>...</td>\n",
       "      <td>...</td>\n",
       "      <td>...</td>\n",
       "      <td>...</td>\n",
       "    </tr>\n",
       "    <tr>\n",
       "      <th>0.995996</th>\n",
       "      <td>0.002000</td>\n",
       "      <td>-3.098025</td>\n",
       "      <td>0.248999</td>\n",
       "      <td>NaN</td>\n",
       "    </tr>\n",
       "    <tr>\n",
       "      <th>0.996997</th>\n",
       "      <td>0.001500</td>\n",
       "      <td>-3.104759</td>\n",
       "      <td>0.249249</td>\n",
       "      <td>NaN</td>\n",
       "    </tr>\n",
       "    <tr>\n",
       "      <th>0.997998</th>\n",
       "      <td>0.001000</td>\n",
       "      <td>-3.111500</td>\n",
       "      <td>0.249499</td>\n",
       "      <td>NaN</td>\n",
       "    </tr>\n",
       "    <tr>\n",
       "      <th>0.998999</th>\n",
       "      <td>0.000500</td>\n",
       "      <td>-3.118246</td>\n",
       "      <td>0.249750</td>\n",
       "      <td>NaN</td>\n",
       "    </tr>\n",
       "    <tr>\n",
       "      <th>1.000000</th>\n",
       "      <td>0.000000</td>\n",
       "      <td>-3.125000</td>\n",
       "      <td>0.250000</td>\n",
       "      <td>NaN</td>\n",
       "    </tr>\n",
       "  </tbody>\n",
       "</table>\n",
       "<p>1000 rows × 4 columns</p>\n",
       "</div>"
      ],
      "text/plain": [
       "                 C    Ctilde         M  MAC\n",
       "0.000000  0.000000  0.000000  0.000000  NaN\n",
       "0.001001  0.030638  0.030634  0.000250  NaN\n",
       "0.002002  0.042742  0.042729  0.000501  NaN\n",
       "0.003003  0.051797  0.051768  0.000751  NaN\n",
       "0.004004  0.059273  0.059223  0.001001  NaN\n",
       "...            ...       ...       ...  ...\n",
       "0.995996  0.002000 -3.098025  0.248999  NaN\n",
       "0.996997  0.001500 -3.104759  0.249249  NaN\n",
       "0.997998  0.001000 -3.111500  0.249499  NaN\n",
       "0.998999  0.000500 -3.118246  0.249750  NaN\n",
       "1.000000  0.000000 -3.125000  0.250000  NaN\n",
       "\n",
       "[1000 rows x 4 columns]"
      ]
     },
     "execution_count": 78,
     "metadata": {},
     "output_type": "execute_result"
    }
   ],
   "source": [
    "mBasic = MAC() \n",
    "\n",
    "#Initialize grid \n",
    "\n",
    "mBasic.grids()\n",
    "Egrid = mBasic.Egrid()\n",
    "\n",
    "mBasic.C(Egrid)\n",
    "mBasic.M(Egrid)\n",
    "mBasic.Ctilde(Egrid)\n",
    "\n",
    "\n",
    "mBasic.df"
   ]
  },
  {
   "cell_type": "code",
   "execution_count": 79,
   "id": "f749e0da",
   "metadata": {},
   "outputs": [
    {
     "name": "stderr",
     "output_type": "stream",
     "text": [
      "/Users/l/Desktop/Programming/EnergyEconomicsE2023/Exercises/pyfiles/E2.py:55: RuntimeWarning: divide by zero encountered in power\n",
      "  MACgrid = (self.db['α']*self.db['γ']*np.power(E, self.db['α']-1)-self.db['pe'])/self.db['ϕ']\n"
     ]
    },
    {
     "data": {
      "text/html": [
       "<div>\n",
       "<style scoped>\n",
       "    .dataframe tbody tr th:only-of-type {\n",
       "        vertical-align: middle;\n",
       "    }\n",
       "\n",
       "    .dataframe tbody tr th {\n",
       "        vertical-align: top;\n",
       "    }\n",
       "\n",
       "    .dataframe thead th {\n",
       "        text-align: right;\n",
       "    }\n",
       "</style>\n",
       "<table border=\"1\" class=\"dataframe\">\n",
       "  <thead>\n",
       "    <tr style=\"text-align: right;\">\n",
       "      <th></th>\n",
       "      <th>C</th>\n",
       "      <th>Ctilde</th>\n",
       "      <th>M</th>\n",
       "      <th>MAC</th>\n",
       "    </tr>\n",
       "  </thead>\n",
       "  <tbody>\n",
       "    <tr>\n",
       "      <th>0.000000</th>\n",
       "      <td>0.000000</td>\n",
       "      <td>0.000000</td>\n",
       "      <td>0.000000</td>\n",
       "      <td>inf</td>\n",
       "    </tr>\n",
       "    <tr>\n",
       "      <th>0.001001</th>\n",
       "      <td>0.030638</td>\n",
       "      <td>0.030634</td>\n",
       "      <td>0.000250</td>\n",
       "      <td>59.213923</td>\n",
       "    </tr>\n",
       "    <tr>\n",
       "      <th>0.002002</th>\n",
       "      <td>0.042742</td>\n",
       "      <td>0.042729</td>\n",
       "      <td>0.000501</td>\n",
       "      <td>40.698993</td>\n",
       "    </tr>\n",
       "    <tr>\n",
       "      <th>0.003003</th>\n",
       "      <td>0.051797</td>\n",
       "      <td>0.051768</td>\n",
       "      <td>0.000751</td>\n",
       "      <td>32.496575</td>\n",
       "    </tr>\n",
       "    <tr>\n",
       "      <th>0.004004</th>\n",
       "      <td>0.059273</td>\n",
       "      <td>0.059223</td>\n",
       "      <td>0.001001</td>\n",
       "      <td>27.606961</td>\n",
       "    </tr>\n",
       "    <tr>\n",
       "      <th>...</th>\n",
       "      <td>...</td>\n",
       "      <td>...</td>\n",
       "      <td>...</td>\n",
       "      <td>...</td>\n",
       "    </tr>\n",
       "    <tr>\n",
       "      <th>0.995996</th>\n",
       "      <td>0.002000</td>\n",
       "      <td>-3.098025</td>\n",
       "      <td>0.248999</td>\n",
       "      <td>-1.995984</td>\n",
       "    </tr>\n",
       "    <tr>\n",
       "      <th>0.996997</th>\n",
       "      <td>0.001500</td>\n",
       "      <td>-3.104759</td>\n",
       "      <td>0.249249</td>\n",
       "      <td>-1.996990</td>\n",
       "    </tr>\n",
       "    <tr>\n",
       "      <th>0.997998</th>\n",
       "      <td>0.001000</td>\n",
       "      <td>-3.111500</td>\n",
       "      <td>0.249499</td>\n",
       "      <td>-1.997995</td>\n",
       "    </tr>\n",
       "    <tr>\n",
       "      <th>0.998999</th>\n",
       "      <td>0.000500</td>\n",
       "      <td>-3.118246</td>\n",
       "      <td>0.249750</td>\n",
       "      <td>-1.998998</td>\n",
       "    </tr>\n",
       "    <tr>\n",
       "      <th>1.000000</th>\n",
       "      <td>0.000000</td>\n",
       "      <td>-3.125000</td>\n",
       "      <td>0.250000</td>\n",
       "      <td>-2.000000</td>\n",
       "    </tr>\n",
       "  </tbody>\n",
       "</table>\n",
       "<p>1000 rows × 4 columns</p>\n",
       "</div>"
      ],
      "text/plain": [
       "                 C    Ctilde         M        MAC\n",
       "0.000000  0.000000  0.000000  0.000000        inf\n",
       "0.001001  0.030638  0.030634  0.000250  59.213923\n",
       "0.002002  0.042742  0.042729  0.000501  40.698993\n",
       "0.003003  0.051797  0.051768  0.000751  32.496575\n",
       "0.004004  0.059273  0.059223  0.001001  27.606961\n",
       "...            ...       ...       ...        ...\n",
       "0.995996  0.002000 -3.098025  0.248999  -1.995984\n",
       "0.996997  0.001500 -3.104759  0.249249  -1.996990\n",
       "0.997998  0.001000 -3.111500  0.249499  -1.997995\n",
       "0.998999  0.000500 -3.118246  0.249750  -1.998998\n",
       "1.000000  0.000000 -3.125000  0.250000  -2.000000\n",
       "\n",
       "[1000 rows x 4 columns]"
      ]
     },
     "execution_count": 79,
     "metadata": {},
     "output_type": "execute_result"
    }
   ],
   "source": [
    "mBasic.fill_grids()\n",
    "mBasic.df"
   ]
  },
  {
   "cell_type": "markdown",
   "id": "b494c6b7-c8c7-47f4-9fbd-c126fdfaff99",
   "metadata": {},
   "source": [
    "### **Q 1.2. Add baseline and optimal solutions as methods to the class**"
   ]
  },
  {
   "cell_type": "code",
   "execution_count": 83,
   "id": "4fe58e9b",
   "metadata": {},
   "outputs": [
    {
     "ename": "ValueError",
     "evalue": "Length of values (1) does not match length of index (1000)",
     "output_type": "error",
     "traceback": [
      "\u001b[0;31m---------------------------------------------------------------------------\u001b[0m",
      "\u001b[0;31mValueError\u001b[0m                                Traceback (most recent call last)",
      "\u001b[1;32m/Users/l/Desktop/Programming/EnergyEconomicsE2023/Exercises/E2.ipynb Cell 12\u001b[0m in \u001b[0;36m<cell line: 1>\u001b[0;34m()\u001b[0m\n\u001b[0;32m----> <a href='vscode-notebook-cell:/Users/l/Desktop/Programming/EnergyEconomicsE2023/Exercises/E2.ipynb#X41sZmlsZQ%3D%3D?line=0'>1</a>\u001b[0m mBasic\u001b[39m.\u001b[39;49mbaseline_solution(print_sol\u001b[39m=\u001b[39;49m\u001b[39mTrue\u001b[39;49;00m)\n",
      "File \u001b[0;32m~/Desktop/Programming/EnergyEconomicsE2023/Exercises/pyfiles/E2.py:71\u001b[0m, in \u001b[0;36mMAC.baseline_solution\u001b[0;34m(self, print_sol)\u001b[0m\n\u001b[1;32m     69\u001b[0m \u001b[39mdef\u001b[39;00m \u001b[39mbaseline_solution\u001b[39m(\u001b[39mself\u001b[39m, print_sol \u001b[39m=\u001b[39m \u001b[39mFalse\u001b[39;00m):\n\u001b[1;32m     70\u001b[0m \tE_0 \u001b[39m=\u001b[39m optimize\u001b[39m.\u001b[39mfsolve(\u001b[39mlambda\u001b[39;00m E: \u001b[39mself\u001b[39m\u001b[39m.\u001b[39mdb[\u001b[39m'\u001b[39m\u001b[39mα\u001b[39m\u001b[39m'\u001b[39m]\u001b[39m*\u001b[39m\u001b[39mself\u001b[39m\u001b[39m.\u001b[39mdb[\u001b[39m'\u001b[39m\u001b[39mγ\u001b[39m\u001b[39m'\u001b[39m]\u001b[39m*\u001b[39mE\u001b[39m*\u001b[39m\u001b[39m*\u001b[39m(\u001b[39mself\u001b[39m\u001b[39m.\u001b[39mdb[\u001b[39m'\u001b[39m\u001b[39mα\u001b[39m\u001b[39m'\u001b[39m]\u001b[39m-\u001b[39m\u001b[39m1\u001b[39m)\u001b[39m-\u001b[39m\u001b[39mself\u001b[39m\u001b[39m.\u001b[39mdb[\u001b[39m'\u001b[39m\u001b[39mpe\u001b[39m\u001b[39m'\u001b[39m], \u001b[39m0.5\u001b[39m)\n\u001b[0;32m---> 71\u001b[0m \tC_0 \u001b[39m=\u001b[39m \u001b[39mself\u001b[39;49m\u001b[39m.\u001b[39;49mC(E_0) \u001b[39m# consumption level for E_0\u001b[39;00m\n\u001b[1;32m     72\u001b[0m \tM_0 \u001b[39m=\u001b[39m \u001b[39mself\u001b[39m\u001b[39m.\u001b[39mM(E_0) \u001b[39m# emmission level for E_0\u001b[39;00m\n\u001b[1;32m     73\u001b[0m \t\u001b[39mif\u001b[39;00m print_sol \u001b[39m==\u001b[39m \u001b[39mTrue\u001b[39;00m:\n",
      "File \u001b[0;32m~/Desktop/Programming/EnergyEconomicsE2023/Exercises/pyfiles/E2.py:27\u001b[0m, in \u001b[0;36mMAC.C\u001b[0;34m(self, E, return_grid, **kwargs)\u001b[0m\n\u001b[1;32m     24\u001b[0m Cgrid \u001b[39m=\u001b[39m \u001b[39mself\u001b[39m\u001b[39m.\u001b[39mdb[\u001b[39m'\u001b[39m\u001b[39mγ\u001b[39m\u001b[39m'\u001b[39m] \u001b[39m*\u001b[39m np\u001b[39m.\u001b[39mpower(E, \u001b[39mself\u001b[39m\u001b[39m.\u001b[39mdb[\u001b[39m'\u001b[39m\u001b[39mα\u001b[39m\u001b[39m'\u001b[39m])\u001b[39m-\u001b[39m\u001b[39mself\u001b[39m\u001b[39m.\u001b[39mdb[\u001b[39m'\u001b[39m\u001b[39mpe\u001b[39m\u001b[39m'\u001b[39m]\u001b[39m*\u001b[39mE\n\u001b[1;32m     26\u001b[0m \u001b[39m#Save in df \u001b[39;00m\n\u001b[0;32m---> 27\u001b[0m \u001b[39mself\u001b[39m\u001b[39m.\u001b[39mdf[\u001b[39m'\u001b[39m\u001b[39mC\u001b[39m\u001b[39m'\u001b[39m] \u001b[39m=\u001b[39m Cgrid\n\u001b[1;32m     28\u001b[0m \u001b[39mif\u001b[39;00m return_grid \u001b[39m==\u001b[39m \u001b[39mTrue\u001b[39;00m:\n\u001b[1;32m     29\u001b[0m \t\u001b[39mreturn\u001b[39;00m Cgrid\n",
      "File \u001b[0;32m~/opt/anaconda3/lib/python3.9/site-packages/pandas/core/frame.py:3655\u001b[0m, in \u001b[0;36mDataFrame.__setitem__\u001b[0;34m(self, key, value)\u001b[0m\n\u001b[1;32m   3652\u001b[0m     \u001b[39mself\u001b[39m\u001b[39m.\u001b[39m_setitem_array([key], value)\n\u001b[1;32m   3653\u001b[0m \u001b[39melse\u001b[39;00m:\n\u001b[1;32m   3654\u001b[0m     \u001b[39m# set column\u001b[39;00m\n\u001b[0;32m-> 3655\u001b[0m     \u001b[39mself\u001b[39;49m\u001b[39m.\u001b[39;49m_set_item(key, value)\n",
      "File \u001b[0;32m~/opt/anaconda3/lib/python3.9/site-packages/pandas/core/frame.py:3832\u001b[0m, in \u001b[0;36mDataFrame._set_item\u001b[0;34m(self, key, value)\u001b[0m\n\u001b[1;32m   3822\u001b[0m \u001b[39mdef\u001b[39;00m \u001b[39m_set_item\u001b[39m(\u001b[39mself\u001b[39m, key, value) \u001b[39m-\u001b[39m\u001b[39m>\u001b[39m \u001b[39mNone\u001b[39;00m:\n\u001b[1;32m   3823\u001b[0m     \u001b[39m\"\"\"\u001b[39;00m\n\u001b[1;32m   3824\u001b[0m \u001b[39m    Add series to DataFrame in specified column.\u001b[39;00m\n\u001b[1;32m   3825\u001b[0m \n\u001b[0;32m   (...)\u001b[0m\n\u001b[1;32m   3830\u001b[0m \u001b[39m    ensure homogeneity.\u001b[39;00m\n\u001b[1;32m   3831\u001b[0m \u001b[39m    \"\"\"\u001b[39;00m\n\u001b[0;32m-> 3832\u001b[0m     value \u001b[39m=\u001b[39m \u001b[39mself\u001b[39;49m\u001b[39m.\u001b[39;49m_sanitize_column(value)\n\u001b[1;32m   3834\u001b[0m     \u001b[39mif\u001b[39;00m (\n\u001b[1;32m   3835\u001b[0m         key \u001b[39min\u001b[39;00m \u001b[39mself\u001b[39m\u001b[39m.\u001b[39mcolumns\n\u001b[1;32m   3836\u001b[0m         \u001b[39mand\u001b[39;00m value\u001b[39m.\u001b[39mndim \u001b[39m==\u001b[39m \u001b[39m1\u001b[39m\n\u001b[1;32m   3837\u001b[0m         \u001b[39mand\u001b[39;00m \u001b[39mnot\u001b[39;00m is_extension_array_dtype(value)\n\u001b[1;32m   3838\u001b[0m     ):\n\u001b[1;32m   3839\u001b[0m         \u001b[39m# broadcast across multiple columns if necessary\u001b[39;00m\n\u001b[1;32m   3840\u001b[0m         \u001b[39mif\u001b[39;00m \u001b[39mnot\u001b[39;00m \u001b[39mself\u001b[39m\u001b[39m.\u001b[39mcolumns\u001b[39m.\u001b[39mis_unique \u001b[39mor\u001b[39;00m \u001b[39misinstance\u001b[39m(\u001b[39mself\u001b[39m\u001b[39m.\u001b[39mcolumns, MultiIndex):\n",
      "File \u001b[0;32m~/opt/anaconda3/lib/python3.9/site-packages/pandas/core/frame.py:4535\u001b[0m, in \u001b[0;36mDataFrame._sanitize_column\u001b[0;34m(self, value)\u001b[0m\n\u001b[1;32m   4532\u001b[0m     \u001b[39mreturn\u001b[39;00m _reindex_for_setitem(value, \u001b[39mself\u001b[39m\u001b[39m.\u001b[39mindex)\n\u001b[1;32m   4534\u001b[0m \u001b[39mif\u001b[39;00m is_list_like(value):\n\u001b[0;32m-> 4535\u001b[0m     com\u001b[39m.\u001b[39;49mrequire_length_match(value, \u001b[39mself\u001b[39;49m\u001b[39m.\u001b[39;49mindex)\n\u001b[1;32m   4536\u001b[0m \u001b[39mreturn\u001b[39;00m sanitize_array(value, \u001b[39mself\u001b[39m\u001b[39m.\u001b[39mindex, copy\u001b[39m=\u001b[39m\u001b[39mTrue\u001b[39;00m, allow_2d\u001b[39m=\u001b[39m\u001b[39mTrue\u001b[39;00m)\n",
      "File \u001b[0;32m~/opt/anaconda3/lib/python3.9/site-packages/pandas/core/common.py:557\u001b[0m, in \u001b[0;36mrequire_length_match\u001b[0;34m(data, index)\u001b[0m\n\u001b[1;32m    553\u001b[0m \u001b[39m\"\"\"\u001b[39;00m\n\u001b[1;32m    554\u001b[0m \u001b[39mCheck the length of data matches the length of the index.\u001b[39;00m\n\u001b[1;32m    555\u001b[0m \u001b[39m\"\"\"\u001b[39;00m\n\u001b[1;32m    556\u001b[0m \u001b[39mif\u001b[39;00m \u001b[39mlen\u001b[39m(data) \u001b[39m!=\u001b[39m \u001b[39mlen\u001b[39m(index):\n\u001b[0;32m--> 557\u001b[0m     \u001b[39mraise\u001b[39;00m \u001b[39mValueError\u001b[39;00m(\n\u001b[1;32m    558\u001b[0m         \u001b[39m\"\u001b[39m\u001b[39mLength of values \u001b[39m\u001b[39m\"\u001b[39m\n\u001b[1;32m    559\u001b[0m         \u001b[39mf\u001b[39m\u001b[39m\"\u001b[39m\u001b[39m(\u001b[39m\u001b[39m{\u001b[39;00m\u001b[39mlen\u001b[39m(data)\u001b[39m}\u001b[39;00m\u001b[39m) \u001b[39m\u001b[39m\"\u001b[39m\n\u001b[1;32m    560\u001b[0m         \u001b[39m\"\u001b[39m\u001b[39mdoes not match length of index \u001b[39m\u001b[39m\"\u001b[39m\n\u001b[1;32m    561\u001b[0m         \u001b[39mf\u001b[39m\u001b[39m\"\u001b[39m\u001b[39m(\u001b[39m\u001b[39m{\u001b[39;00m\u001b[39mlen\u001b[39m(index)\u001b[39m}\u001b[39;00m\u001b[39m)\u001b[39m\u001b[39m\"\u001b[39m\n\u001b[1;32m    562\u001b[0m     )\n",
      "\u001b[0;31mValueError\u001b[0m: Length of values (1) does not match length of index (1000)"
     ]
    }
   ],
   "source": [
    "mBasic.baseline_solution(print_sol=True)"
   ]
  },
  {
   "cell_type": "markdown",
   "id": "03ab4f7a-56c6-4e4d-b70b-eb034092db04",
   "metadata": {},
   "source": [
    "*Next, define methods that allow you to compute a baseline solution and an optimal one.*"
   ]
  },
  {
   "cell_type": "markdown",
   "id": "ff709e67-5583-479c-9650-b4d2e6ae00c2",
   "metadata": {},
   "source": [
    "### **Q 1.3. Initialize instance of the class and plot $E^*$ as a function of $\\gamma$ and $\\phi$.**"
   ]
  },
  {
   "cell_type": "markdown",
   "id": "c7caf768-a934-4e3f-829b-fbfe935292de",
   "metadata": {},
   "source": [
    "*Hint: It should end up looking something like this*"
   ]
  },
  {
   "cell_type": "code",
   "execution_count": 56,
   "id": "d3cc9190-eaab-4aeb-90ed-d5cc2300f9c4",
   "metadata": {
    "tags": []
   },
   "outputs": [
    {
     "data": {
      "text/html": [
       "\n",
       "        <iframe\n",
       "            width=\"800\"\n",
       "            height=\"400\"\n",
       "            src=\"./Figs/S2_Q13.pdf\"\n",
       "            frameborder=\"0\"\n",
       "            allowfullscreen\n",
       "            \n",
       "        ></iframe>\n",
       "        "
      ],
      "text/plain": [
       "<IPython.lib.display.IFrame at 0x7fb75d391eb0>"
      ]
     },
     "execution_count": 56,
     "metadata": {},
     "output_type": "execute_result"
    }
   ],
   "source": [
    "IFrame(\"./Figs/S2_Q13.pdf\", width=800, height=400)\n"
   ]
  },
  {
   "cell_type": "markdown",
   "id": "d9399442-f691-4ff8-9aae-f70e7c3bb5fe",
   "metadata": {
    "tags": []
   },
   "source": [
    "## Q2. Technical abatement as a child-class"
   ]
  },
  {
   "cell_type": "markdown",
   "id": "f1bbd34e-b43a-437a-9cbd-be55eae2163c",
   "metadata": {},
   "source": [
    "In this exercise, we'll build a class on top of the parent class from **Q1** to look a bit into inheritance. As you'll see later in the course, (almost) all of the energy system models we build are children classes of the base class ```modelShell``` from ```lpModels```.\n",
    "\n",
    "*NB: Some of the methods in ```MAC``` changes when we go to ```MACTech``` (e.g. the way to compute $C$ and $M$). As it is best practice to make sure that the parent class (```MAC```) methods doesn't break with child classes, we've added the argument ```**kwargs``` a couple of places in the base class. This allows us to add new arguments in ```MACTech``` methods that would simply not impact the base methods.*"
   ]
  },
  {
   "cell_type": "markdown",
   "id": "2217a93c-6da4-44a5-92b5-30c0c01bdace",
   "metadata": {},
   "source": [
    "### **Q 2.1. Briefly explain the initial part of this class**"
   ]
  },
  {
   "cell_type": "markdown",
   "id": "8f965e1a-6f6e-4aa1-8e83-1ff3a127c7a9",
   "metadata": {},
   "source": [
    "```python\n",
    "class MACTech(MAC):\n",
    "    def __init__(self, α = .5, γ = 1, pe = 1, ϕ = .25, γd = 100, θ = None, c = None, σ = None):\n",
    "        super().__init__(α = α, γ = γ, pe = pe, ϕ = ϕ, γd = γd) # use __init__ method from parent class\n",
    "        self.initTechs(θ = θ, c = c, σ = σ)\n",
    "        \n",
    "    def initTechs(self, θ = None, c = None, σ = None):\n",
    "        \"\"\" Initialize technologies from default values \"\"\"\n",
    "        if θ is None:\n",
    "            self.db['Tech'] = pd.Index(['T1'], name = 'i')\n",
    "            self.db['θ'] = pd.Series(0, index = self.db['Tech'], name = 'θ')\n",
    "            self.db['c'] = pd.Series(1, index = self.db['Tech'], name = 'c')\n",
    "            self.db['σ'] = pd.Series(1, index = self.db['Tech'], name = 'σ')\n",
    "        elif isinstance(θ, pd.Series):\n",
    "            self.db['θ'] = θ\n",
    "            self.db['c'] = c\n",
    "            self.db['σ'] = σ\n",
    "            self.db['Tech'] = self.db['θ'].index\n",
    "        else:\n",
    "            self.db['Tech'] = 'T'+pd.Index(range(1, len(θ)+1), name = 'i').astype(str)\n",
    "            self.db['θ'] = pd.Series(θ, index = self.db['Tech'], name = 'θ')\n",
    "            self.db['c'] = pd.Series(c, index = self.db['Tech'], name = 'c')\n",
    "            self.db['σ'] = pd.Series(1, index = self.db['Tech'], name = 'σ')\n",
    "```"
   ]
  },
  {
   "cell_type": "markdown",
   "id": "785f1b0f-9daf-463c-b19b-18d9340f5ce8",
   "metadata": {},
   "source": [
    "### **Q 2.2. Add relevant methods to the class**"
   ]
  },
  {
   "cell_type": "markdown",
   "id": "1c42cf9b-bdd4-49b9-a548-fe39e214c148",
   "metadata": {},
   "source": [
    "1. *Add methods that determine optimal abatement and abatement costs given marginal damages.*\n",
    "2. *Adjust existing methods for computing $C$, $\\tilde{C}$ to this class with technical abatement (now they are functions of $M$ as well)*\n",
    "3. *Add/adjust the methods that define the optimal solution for $E,M,C$. using the methods in **Q2.4** in PS1.*"
   ]
  },
  {
   "cell_type": "markdown",
   "id": "4094c80b-a3c0-4033-bbfa-c40cb6eb614d",
   "metadata": {},
   "source": [
    "### **Q 2.3. Compute marginal abatement costs on a grid of abated emissions**"
   ]
  },
  {
   "cell_type": "markdown",
   "id": "922fe732-6d94-4d2f-9a21-7cd88f673dff",
   "metadata": {},
   "source": [
    "*Start with an initialization of your class:*"
   ]
  },
  {
   "cell_type": "code",
   "execution_count": 57,
   "id": "6f9914fe-da49-4860-a364-944763c89271",
   "metadata": {},
   "outputs": [
    {
     "name": "stdout",
     "output_type": "stream",
     "text": [
      "Unexpected exception formatting exception. Falling back to standard exception\n"
     ]
    },
    {
     "name": "stderr",
     "output_type": "stream",
     "text": [
      "Traceback (most recent call last):\n",
      "  File \"/Users/l/opt/anaconda3/lib/python3.9/site-packages/IPython/core/interactiveshell.py\", line 3398, in run_code\n",
      "    exec(code_obj, self.user_global_ns, self.user_ns)\n",
      "  File \"/var/folders/yf/cbyzbr7d3hl8n98r3rphk8wh0000gn/T/ipykernel_18832/983118656.py\", line 5, in <cell line: 5>\n",
      "    mTech = MACTech(θ = θ, c= c, σ=σ)\n",
      "  File \"/Users/l/Desktop/Programming/EnergyEconomicsE2023/Exercises/pyfiles/E2.py\", line 71, in __init__\n",
      "    super().__init__(α = α, γ = γ, pe = pe, ϕ = ϕ, γd = γd) # use __init__ method from parent class\n",
      "TypeError: __init__() got an unexpected keyword argument 'α'\n",
      "\n",
      "During handling of the above exception, another exception occurred:\n",
      "\n",
      "Traceback (most recent call last):\n",
      "  File \"/Users/l/opt/anaconda3/lib/python3.9/site-packages/IPython/core/interactiveshell.py\", line 1993, in showtraceback\n",
      "    stb = self.InteractiveTB.structured_traceback(\n",
      "  File \"/Users/l/opt/anaconda3/lib/python3.9/site-packages/IPython/core/ultratb.py\", line 1118, in structured_traceback\n",
      "    return FormattedTB.structured_traceback(\n",
      "  File \"/Users/l/opt/anaconda3/lib/python3.9/site-packages/IPython/core/ultratb.py\", line 1012, in structured_traceback\n",
      "    return VerboseTB.structured_traceback(\n",
      "  File \"/Users/l/opt/anaconda3/lib/python3.9/site-packages/IPython/core/ultratb.py\", line 865, in structured_traceback\n",
      "    formatted_exception = self.format_exception_as_a_whole(etype, evalue, etb, number_of_lines_of_context,\n",
      "  File \"/Users/l/opt/anaconda3/lib/python3.9/site-packages/IPython/core/ultratb.py\", line 818, in format_exception_as_a_whole\n",
      "    frames.append(self.format_record(r))\n",
      "  File \"/Users/l/opt/anaconda3/lib/python3.9/site-packages/IPython/core/ultratb.py\", line 736, in format_record\n",
      "    result += ''.join(_format_traceback_lines(frame_info.lines, Colors, self.has_colors, lvals))\n",
      "  File \"/Users/l/opt/anaconda3/lib/python3.9/site-packages/stack_data/utils.py\", line 145, in cached_property_wrapper\n",
      "    value = obj.__dict__[self.func.__name__] = self.func(obj)\n",
      "  File \"/Users/l/opt/anaconda3/lib/python3.9/site-packages/stack_data/core.py\", line 698, in lines\n",
      "    pieces = self.included_pieces\n",
      "  File \"/Users/l/opt/anaconda3/lib/python3.9/site-packages/stack_data/utils.py\", line 145, in cached_property_wrapper\n",
      "    value = obj.__dict__[self.func.__name__] = self.func(obj)\n",
      "  File \"/Users/l/opt/anaconda3/lib/python3.9/site-packages/stack_data/core.py\", line 649, in included_pieces\n",
      "    pos = scope_pieces.index(self.executing_piece)\n",
      "  File \"/Users/l/opt/anaconda3/lib/python3.9/site-packages/stack_data/utils.py\", line 145, in cached_property_wrapper\n",
      "    value = obj.__dict__[self.func.__name__] = self.func(obj)\n",
      "  File \"/Users/l/opt/anaconda3/lib/python3.9/site-packages/stack_data/core.py\", line 628, in executing_piece\n",
      "    return only(\n",
      "  File \"/Users/l/opt/anaconda3/lib/python3.9/site-packages/executing/executing.py\", line 164, in only\n",
      "    raise NotOneValueFound('Expected one value, found 0')\n",
      "executing.executing.NotOneValueFound: Expected one value, found 0\n"
     ]
    }
   ],
   "source": [
    "Tech = pd.Index(['T1','T2', 'T3'], name = 'i')\n",
    "θ = pd.Series([0.25, 0.25, 0.25], index = Tech, name  = 'θ')\n",
    "c = pd.Series([0.5, 2, 5], index = Tech, name = 'c')\n",
    "σ = pd.Series([.025, .025, .025], index = Tech, name = 'σ')\n",
    "mTech = MACTech(θ = θ, c= c, σ=σ)"
   ]
  },
  {
   "cell_type": "markdown",
   "id": "5f1a1933-f0a7-4868-b217-b97231b320fb",
   "metadata": {},
   "source": [
    "*Finally, we want a method that allows us to replicate figure 2.2. in the lecture note with slightly different technology parameters. To do this, we need to go through a couple of steps. We start from equation (8) that defines marginal abatement costs. This equation currently depends on $E$ and technical abatement variables $a_i$ that ultimately depends on the marginal damages in optimum. To get at the MAC curve, proceed as follows:*\n",
    "\n",
    "1. *Form a grid of marginal damages ```mdGrid``` as a linear space from 0 to 10.*\n",
    "2. *For each $md_j \\in$ ```mdGrid```, compute the right-hand side of eq. (7) that defines optimality given marginal damages. Define this vector ```mcGrid```.*\n",
    "3. *Given the value of $mc_j\\in$ ```mcGrid```, we can now back out the corresponding level of $E_j$ from (7), that is:*\n",
    "$$\\begin{align}\n",
    "    \\dfrac{F'(E_j)-p_e}{\\phi} = mc_j \\qquad \\Rightarrow \\qquad E_j = \\left(\\dfrac{\\alpha \\gamma}{\\phi mc_j+p_e}\\right)^{\\frac{1}{1-\\alpha}}\n",
    "\\end{align}$$\n",
    "    *We define the vector of these $E_j$ as ```Egrid```*\n",
    "4. *Next, for each $md_j\\in$ ```mdGrid```, compute emissions from $M = E \\phi (1-\\sum_i\\theta_ia_i)$ and define this vector ```Mgrid```.*\n",
    "5. *Finally, exploit that $MAC = D'(M)$, to define MAC on the grid of abated emissions. (this is a pandas series with values = ```mdGrid``` and index = M0-```Mgrid```)*\n",
    "6. *Plot this against the MAC-curve without technical effects. Briefly comment.*"
   ]
  },
  {
   "cell_type": "code",
   "execution_count": 58,
   "id": "5aa967b0-e4a7-476d-bd20-8e3fdb8445c7",
   "metadata": {
    "tags": []
   },
   "outputs": [],
   "source": [
    "mdGrid = np.linspace(np.finfo(float).eps, 10, 1000)"
   ]
  },
  {
   "cell_type": "markdown",
   "id": "90676bcb-0265-4364-ad98-702f3fba2f75",
   "metadata": {},
   "source": [
    "*Hint: With the chosen parameter values, it'll end up looking something like this*"
   ]
  },
  {
   "cell_type": "code",
   "execution_count": 59,
   "id": "dfcbe4b2-a6ac-4e7b-ab67-38db4c97f1d8",
   "metadata": {
    "tags": []
   },
   "outputs": [
    {
     "data": {
      "text/html": [
       "\n",
       "        <iframe\n",
       "            width=\"800\"\n",
       "            height=\"400\"\n",
       "            src=\"./Figs/S2_Q23.pdf\"\n",
       "            frameborder=\"0\"\n",
       "            allowfullscreen\n",
       "            \n",
       "        ></iframe>\n",
       "        "
      ],
      "text/plain": [
       "<IPython.lib.display.IFrame at 0x7fb75d35b7c0>"
      ]
     },
     "execution_count": 59,
     "metadata": {},
     "output_type": "execute_result"
    }
   ],
   "source": [
    "IFrame(\"./Figs/S2_Q23.pdf\", width=800, height=400)"
   ]
  }
 ],
 "metadata": {
  "kernelspec": {
   "display_name": "Python 3 (ipykernel)",
   "language": "python",
   "name": "python3"
  },
  "language_info": {
   "codemirror_mode": {
    "name": "ipython",
    "version": 3
   },
   "file_extension": ".py",
   "mimetype": "text/x-python",
   "name": "python",
   "nbconvert_exporter": "python",
   "pygments_lexer": "ipython3",
   "version": "3.9.13"
  }
 },
 "nbformat": 4,
 "nbformat_minor": 5
}
