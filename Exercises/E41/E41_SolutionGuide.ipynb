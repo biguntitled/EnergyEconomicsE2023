{
 "cells": [
  {
   "cell_type": "markdown",
   "id": "ba6e109b-13c9-44f1-a0f1-3d7dc83adb11",
   "metadata": {},
   "source": [
    "# A Basic Model of Electricity and Heat Systems"
   ]
  },
  {
   "cell_type": "markdown",
   "id": "29dc43dc-e9fd-4ffd-bc10-d98250c0bb2f",
   "metadata": {},
   "source": [
    "Consider a stylized model of the electricity and heat systems where a portfolio of generators (indexed $i$) competes to serve a time varying demand for electricity $(D_h^E)$ and heat $(D_h^H)$, where $h$ refers to hours. The consumers' willingness to pay are 100 €/MWh for both electricity and heat throughout all hours. The system relies on four different type of generators:\n",
    "\n",
    "- <u>Standard (dispatchable) plants</u> use a combination of primary energy carriers (indexed by $j$) and an aggregate of other inputs $(oth)$ to produce either electricity or heat. Let $\\mu_j^i$ denote the input share of energy carrier $j$ for generator $i$, measured as MWh input of energy carrier $j$ per MWh output of electricity or heat. Let $E_{i,h}$ and $H_{i,h}$ denote the hourly generation of electricity and heat, and let $q_i$ denote the installed hourly generating capacity for the plant $i$.\n",
    "- <u>Intermittent plants</u> are similar to standard plants, except that hourly generating capacity is defined as $q_{i,h} = q_i \\gamma_{i,h}$ where $\\gamma_{i,h}\\in[0,1]$ indicates availability of generator $i$ in hour $h$. We use the notation $\\mathcal{I}^E$ ($\\mathcal{I}^H$) to denote the set of all standard and intermittent electricity (heat) producing plants.    \n",
    "- <u>Back-pressure plants</u> are similar to standard electricity producing plants, except that they utilize the excess heat from electricity production to co-produce heat. Let $\\nu_i$ denote the electricity-to-heat ratio for a back-pressure plant $i$. We use the notation $\\mathcal{I}^{BP}$ to denote the set of all back-pressure plants. \n",
    "- <u>Heat pumps</u> are slightly different than standard heat producing plants as they rely on electricity as energy input. Thus, heat pumps have negative electricity-to-heat ratios $(\\nu_i<0)$. We use the notation $\\mathcal{I}^{HP}$ to denote the set of all heat pumps.\n",
    "\n",
    "The optimization problem is given by the system in (1):"
   ]
  },
  {
   "cell_type": "markdown",
   "id": "cd6a9a91-4ab5-4bb4-88c4-dbdb6f1da551",
   "metadata": {},
   "source": [
    "\\begin{align}\n",
    "    \\max_{E_{i,h}, H_{i,h}, D_h^E, D_h^H} &W = \\sum_h\\left( u_E\\cdot D_h^E-\\sum_{i \\in \\lbrace \\mathcal{I}^E, \\mathcal{I}^{BP}\\rbrace}c_i\\cdot E_{i,h}\\right)-\\sum_{i\\in\\lbrace \\mathcal{I}^E,\\mathcal{I}^{BP}\\rbrace}\\text{FOM}_i\\cdot q_i^E \\tag{1a} \\label{eq:mBasicHeat_Objective}\\\\ \n",
    "    &+{\\sum_h\\left( u_H\\cdot D_h^H-\\sum_{i \\in \\lbrace \\mathcal{I}^H, \\mathcal{I}^{HP}\\rbrace}c_i\\cdot H_{i,h}\\right)-\\sum_{i\\in\\lbrace \\mathcal{I}^H, \\mathcal{I}^{HP}\\rbrace}\\text{FOM}_i\\cdot q_i^H} \\notag \\\\\n",
    "    &E_{i,h}= \\nu_i H_{i,h}, \\qquad \\forall i\\in\\lbrace \\mathcal{I}^{BP}, \\mathcal{I}^{HP} \\rbrace\\label{eq:mBasicHeat_CHP} \\tag{1b} \\\\\n",
    "    &D_h^E = \\sum_{i\\in \\lbrace \\mathcal{I}^E, \\mathcal{I}^{BP}, \\mathcal{I}^{HP}\\rbrace }E_{i,h} \\label{eq:mBasicHeat_equi_E} \\tag{1c}\\\\ \n",
    "    &D_h^H = \\sum_{i\\in \\lbrace \\mathcal{I}^H, \\mathcal{I}^{BP}, \\mathcal{I}^{HP}\\rbrace} H_{i,h} \\label{eq:mBasicHeat_equi_H} \\tag{1d}\\\\ \n",
    "    &D_h^E\\in[0, L_h^E] \\label{eq:mBasicHeat_LoadConstraintE} \\tag{1e}\\\\ \n",
    "    &D_h^H\\in[0,L_h^H] \\label{eq:mBasicHeat_LoadConstraintH} \\tag{1f}\\\\ \n",
    "    &E_{i,h} \\in[0,q_{i,h}^E], \\qquad \\forall i\\in\\lbrace \\mathcal{I}^E,\\mathcal{I}^{BP}\\rbrace. \\label{eq:mBasicHeat_ECap} \\tag{1g}\\\\\n",
    "    &H_{i,h} \\in[0,q_{i,h}^H], \\qquad \\forall i\\in\\lbrace \\mathcal{I}^H, \\mathcal{I}^{HP}\\rbrace \\label{eq:mBasicHeat_HCap} \\tag{1h}\n",
    "\\end{align}"
   ]
  },
  {
   "cell_type": "markdown",
   "id": "dd59dfec-ece8-42f3-8c11-ef11ffddc501",
   "metadata": {},
   "source": [
    "# Part 1: Analytical exercises"
   ]
  },
  {
   "cell_type": "markdown",
   "id": "f87fe3d5-f18a-4312-a601-79f1611c1e63",
   "metadata": {},
   "source": [
    "## E1.1"
   ]
  },
  {
   "cell_type": "markdown",
   "id": "53520b2e-edb6-472b-bb35-fcc7a043f0c8",
   "metadata": {
    "tags": []
   },
   "source": [
    "__Describe the optimization problem above.__"
   ]
  },
  {
   "cell_type": "markdown",
   "id": "7974b417-1949-4e82-86ed-3bd47b0d08e7",
   "metadata": {},
   "source": [
    "---\n",
    "___Answer:___\n",
    "\n",
    "The optimization problem is identical to the problem in (23) in Berg (2023). \n",
    "- (1a) is the welfare function, which is the sum of consumer and producer surplus subtracted by total fixed operating other maintanence costs on both electricity and heat markets. \n",
    "    - Note that since $q_i$ is fixed, the fixed costs do not impact the optimal solution to the linear programming (LP) problem in (1).\n",
    "- (1b) is the co-generation constraint of back-pressure plants $(\\nu_{\\lbrace i\\in\\mathcal{I^{BP}}\\rbrace}>0)$ as well as the inverse electrical efficiency of heat pumps $(\\nu_{\\lbrace i\\in\\mathcal{I^{HP}}\\rbrace}<0)$.\n",
    "- (1c) is the equilibrium identity on the electricity market. Here, the \"generation\" from heat pumps is negative because they use electricity when generating heat.\n",
    "- (1d) is the equilibrium identity on the heating market.\n",
    "- (1e) and (1f) are domain constraints on demand. It essentially allows the optimal solution to entail demand curtailment. \n",
    "- Finally, (1g) and (1h) are domain constraints on generation, limiting maximum generation to be within capacity bounds. "
   ]
  },
  {
   "cell_type": "markdown",
   "id": "33e60f33-750f-42fc-9e14-b4ee7a13acab",
   "metadata": {},
   "source": [
    "## E1.2"
   ]
  },
  {
   "cell_type": "markdown",
   "id": "fdd9c454-84b2-4b5e-8158-27151bfd0b70",
   "metadata": {},
   "source": [
    "__Set up the Lagrangian for the optimization problem in [E1.1](#E1.1) and show that the first order conditions for $E_{i,h}$ and $H_{i,h}$ can be writen as:__\n",
    "\n",
    "\\begin{align}\n",
    "\\forall i\\in\\mathcal{I}^E & : & - c_i+\\lambda_h^E + \\underline{\\theta}_{i,h}^E-\\overline{\\theta}_{i,h}^E &= 0 \\\\\n",
    "\\forall i\\in\\mathcal{I}^{BP} & : & - c_i+\\lambda_h^E + \\frac{\\lambda^H}{\\nu_i} +\\underline{\\theta}_{i,h}^E-\\overline{\\theta}_{i,h}^E &= 0 \\\\\n",
    "\\forall i\\in\\mathcal{I}^{H} & : & - c_i+\\lambda_h^H + \\underline{\\theta}_{i,h}^H-\\overline{\\theta}_{i,h}^H &= 0  \\\\\n",
    "\\forall i\\in\\mathcal{I}^{HP} & : & - c_i+\\lambda_h^H + \\nu_i\\lambda^E +\\underline{\\theta}_{i,h}^H-\\overline{\\theta}_{i,h}^H &= 0\n",
    "\\end{align}\n",
    "\n",
    "where $\\lambda^E$ and $\\lambda^H$ denote the shadow costs of equilibrium constraints on electricity and heat markets in hour $h$, respectively, and $\\underline{\\theta}$ and $\\overline{\\theta}$ denote the shadow costs on the domain constraints on generation variables $E$ and $H$. \n",
    "\n",
    "*Note: Use the same notation as in the above*."
   ]
  },
  {
   "cell_type": "markdown",
   "id": "d27c4a34-4551-4f99-b71c-be431c02d253",
   "metadata": {},
   "source": [
    "---\n",
    "___Answer:___\n",
    "\n",
    "Following the notation in section 4.2 of Berg (2023), where $\\Lambda$ indicates the terms from equality constraints and $\\Theta$ indicates the terms from bounds on variables. The Lagrangian of the problem is then given by:\n",
    "\n",
    "\\begin{align}\n",
    "    \\mathcal{L} =& W + \\sum_h\\left( \\Lambda_h^E + \\Lambda_h^H + \\sum_{i\\in \\lbrace \\mathcal{I}^{BP}, \\mathcal{I}^{HP}\\rbrace }\\Lambda_{h,i}^{CHP}\\right) \\\\ \n",
    "    &\\sum_h\\left(\\Theta_h^{DH}+\\Theta_h^{DE}+\\sum_{i\\in \\lbrace \\mathcal{I}^{E}, \\mathcal{I}^{BP}\\rbrace}\\Theta_{h,i}^E+\\sum_{i\\in \\lbrace \\mathcal{I}^{H}, \\mathcal{I}^{HP}\\rbrace}\\Theta_{h,i}^H\\right) \\notag \\\\\n",
    "    \\Lambda_h^E =& \\lambda_h^E\\left(\\sum_{i\\in \\lbrace \\mathcal{I}^E, \\mathcal{I}^{BP}, \\mathcal{I}^{HP}\\rbrace } E_{i,h}-D_h^E\\right) \\notag \\\\\n",
    "    \\Lambda_h^H =& \\lambda_h^H\\left(\\sum_{i\\in \\lbrace \\mathcal{I}^H, \\mathcal{I}^{BP},\\mathcal{I}^{HP}\\rbrace} H_{i,h} - D_h^H\\right) \\notag \\\\\n",
    "    \\Lambda_{h,i}^{CHP} =& \\lambda_{i,h}^{CHP}\\left(E_{i,h}-\\nu_i H_{i,h}\\right) \\notag \\\\\n",
    "    \\Theta_h^{DE} =& \\underline{\\theta}^{DE}_hD_h^E+\\overline{\\theta}^{DE}_h(L_h^E-D_h^E) \\notag \\\\\n",
    "    \\Theta_h^{DH} =& \\underline{\\theta}^{DH}_hD_h^H+\\overline{\\theta}^{DH}_h(L_h^H-D_h^H) \\notag \\\\\n",
    "    \\Theta_{h,i}^E =& \\underline{\\theta}^E_{i,h}E_{i,h}+\\overline{\\theta}^E_{i,h}\\left(q_{i,h}-E_{i,h}\\right) \\notag \\\\\n",
    "    \\Theta_{h,i}^H =& \\underline{\\theta}^H_{i,h}H_{i,h}+\\overline{\\theta}^H_{i,h}\\left(q_{i,h}-H_{i,h}\\right) \\notag\n",
    "\\end{align}\n",
    "\n",
    "Once again, the size of this expression is becoming a bit intimidating, but, it consists almost entirely of repetitions of what we have already seen. "
   ]
  },
  {
   "cell_type": "markdown",
   "id": "7952e92a-7405-45cf-a84e-a8529228f039",
   "metadata": {},
   "source": [
    "The necessary first-order conditions are given by:\n",
    "\n",
    "\\begin{align}\n",
    "    \\text{For }i\\in\\mathcal{I}^E: && \\dfrac{\\partial \\mathcal{L}}{\\partial E_{i,h}} = 0: && -c_i +\\lambda_h^E +\\underline{\\theta}_{i,h}^E-\\overline{\\theta}_{i,h}^E =&0 \\\\ \n",
    "    \\text{For }i\\in\\mathcal{I}^{BP}: && \\dfrac{\\partial \\mathcal{L}}{\\partial E_{i,h}} = 0: && -c_i+\\lambda_h^E + \\lambda_{i,h}^{CHP}+\\underline{\\theta}_{i,h}^E-\\overline{\\theta}_{i,h}^E =& 0 \\\\\n",
    "    \\text{For }i\\in\\mathcal{I}^{HP}: && \\dfrac{\\partial \\mathcal{L}}{\\partial E_{i,h}} =0: && \\lambda_h^E+\\lambda_{i,h}^{CHP} =& 0 \\\\\n",
    "    \\text{For }i\\in\\mathcal{I}^H: && \\dfrac{\\partial \\mathcal{L}}{\\partial H_{i,h}} = 0: && -c_i +\\lambda_h^H +\\underline{\\theta}_{i,h}^H-\\overline{\\theta}_{i,h}^H =&0 \\\\ \n",
    "    \\text{For }i\\in\\mathcal{I}^{BP}: && \\dfrac{\\partial \\mathcal{L}}{\\partial H_{i,h}} = 0: && \\lambda_h^H-\\nu_i\\lambda_{i,h}^{CHP} =& 0 \\\\\n",
    "    \\text{For }i\\in\\mathcal{I}^{HP}: && \\dfrac{\\partial \\mathcal{L}}{\\partial H_{i,h}} =0: && -c_i+\\lambda_h^H-\\nu_i\\cdot \\lambda_{i,h}^{CHP} +\\underline{\\theta}_{i,h}^H-\\overline{\\theta}_{i,h}^H=& 0.\n",
    "\\end{align}\n",
    "Inserting $\\eqref{eq:mBasicHeat_FOC_H_BP}$ into $\\eqref{eq:mBasicHeat_FOC_E_BP}$ yields equation (2b), and inserting $\\eqref{eq:mBasicHeat_FOC_E_HP}$ into $\\eqref{eq:mBasicHeat_FOC_H_HP}$ yields equation (2d).\n"
   ]
  },
  {
   "cell_type": "markdown",
   "id": "c86546f2-4ae6-4c76-9aad-0a53bd6ee676",
   "metadata": {},
   "source": [
    "## E1.3"
   ]
  },
  {
   "cell_type": "markdown",
   "id": "fb361284-b883-4b3a-b071-ee68482924ca",
   "metadata": {},
   "source": [
    "__Briefly explain the intuition the first-order conditions in [E1.2](#E1.2).__ "
   ]
  },
  {
   "cell_type": "markdown",
   "id": "8b8bc03d-85f3-4784-93cc-a3ef3a9de1a4",
   "metadata": {},
   "source": [
    "---\n",
    "___Answer:___\n",
    "\n",
    "To interpret the necessary first-order conditions, we first recognize that $\\lambda_h^E$ and $\\lambda_h^H$ as equilibrium prices in the electricity market and the heat market, respectively. We then see:\n",
    "\n",
    "- Eq. (2a) is the conventional first-order condition for standard electricity plants: When $\\lambda_h^E-c_i>0$, the plant is relatively cost-effective. In this case, $\\overline{\\theta}_{i,h}^E=\\lambda_h^E-c_i>0$ indicating that the relevant upper domain constraint is active $(E_{i,h}=q_{i,h})$. \n",
    "- An equivalent interpretation for standard heat producing electricity producing plants in (2c) holds.\n",
    "- For back-pressure plants, the condition in (2b) is the same as for standard plants, except that $\\lambda_h^E$ is replaced with $\\lambda_h^H/\\nu_i\\geq 0$. When a back-pressure plant generates 1 GJ electricity, it co-generates $1/\\nu_i$ GJ heat; thus, the marginal value of electricity generation is $\\lambda_h^E +  \\lambda_h^H/\\nu_i$. Importantly, this means that *the value of back-pressure plants is higher when the price (marginal system cost) of heat $(\\lambda_h^H)$ is high.*\n",
    "- For heat pumps, the condition in (2d) is the same as the ones for standard heat producing plants, except that $\\lambda_h^H$ is replaced with $\\lambda_h^H+\\nu_i \\lambda_{h}^{E}$. But, recall that for heat pumps, $\\nu_i<0$ measures how much electricity is needed to produce heat. So, unlike the back-pressure plant, this means that *the value of heat pumps is higher when the price (marginal system cost) of electricity is low."
   ]
  },
  {
   "cell_type": "markdown",
   "id": "a3b9873d-eec7-4a3a-b6aa-e886c15026be",
   "metadata": {},
   "source": [
    "## E1.4"
   ]
  },
  {
   "cell_type": "markdown",
   "id": "e8a01214-6250-4ac1-82d0-ced953bae6c1",
   "metadata": {},
   "source": [
    "__Show the reservation price of electricity (denoted $r_{i,h}^E$) for back-pressure producing plants is given by__\n",
    "\n",
    "\\begin{align}\n",
    "    \\forall i\\in\\mathcal{I}^{BP}: \\quad r_{i,h}^E = c_i-\\frac{\\lambda_h^H}{\\nu_i}\n",
    "\\end{align}\n",
    "\n",
    "__and provide intuition__.\n",
    "\n",
    "\n",
    "_Hint:_\n",
    "_By reservation price we mean the inverted supply function. To gain intuition let us consider standard plants $(i\\in\\mathcal{I}^E)$, which face the profit maximizing problem:_\n",
    "\n",
    "\\begin{align}\n",
    "    \\max_{E_{i,h}\\in[0,q_{i,h}]} \\quad E_{i,h}\\left(\\lambda_h^E - c_i\\right)\n",
    "\\end{align}\n",
    "*The optimal generation decision (i.e. the supply function) is then*\n",
    "\n",
    "\\begin{align}\n",
    "    E^*_{i,h}(\\lambda_h^E)\\begin{cases}\n",
    "    =q_{i,h} & \\lambda_h^E>c_i \\\\\n",
    "    \\in[0,q_{i,h}] & \\lambda_h^E=c_i \\\\\n",
    "    =0 & \\lambda_h^E<c_i\n",
    "    \\end{cases}\n",
    "\\end{align}\n",
    "\n",
    "*We cannot directly invert $E^*_{i,h}(\\lambda_h^E)$ (i.e. isolate for $\\lambda_h^E$), but it is quite clear, that plant $i\\in\\mathcal{I}^E$ only generates electricity if $\\lambda_h^E\\geq c_i$. Hence the reservation price of standard electricity producing plants are $r_{i,h}^E=c_i$.*\n",
    "\n",
    "*Another way to see this is simply to isolate for $\\lambda_h^E$ in the first-order condition in (2a) and drop the shadow prices on the domain constraints. You can use this last logic to derive the reservation price of electricity for heat producing plants.*"
   ]
  },
  {
   "cell_type": "markdown",
   "id": "08e5aacf-59f2-4767-97c2-2ec529747826",
   "metadata": {},
   "source": [
    "---\n",
    "___Answer:___\n",
    "\n",
    "By isolating for $\\lambda_h^E$ in condition (2b) and dropping the shadow prices on the domain constraints, we have that\n",
    "\n",
    "\\begin{align}\n",
    "    \\forall i\\in\\mathcal{I}^{BP}: \\quad r_{i,h}^E = c_i-\\frac{\\lambda_h^H}{\\nu_i}\n",
    "\\end{align}\n",
    "\n",
    "The intuition is that for each unit of electricity produced, the back-pressure plant earns $\\frac{\\lambda_h^H}{\\nu_i}$ on the market for heat, which is can use to cover its cost $(c_i)$. "
   ]
  },
  {
   "cell_type": "markdown",
   "id": "559966fd-b240-4e9d-8246-937c212faab1",
   "metadata": {},
   "source": [
    "## E1.5"
   ]
  },
  {
   "cell_type": "markdown",
   "id": "c0d8fa3b-91d1-48ba-b12b-8d410cb3cf97",
   "metadata": {},
   "source": [
    "__Derive heat pumps' hourly marginal willings to pay $(\\text{MWP}^{HP}_h)$ for electricity using the condition in eq. (2d) and provide intuition for the expression.__"
   ]
  },
  {
   "cell_type": "markdown",
   "id": "38886496-32f7-4ef0-be02-0d2c02b569a0",
   "metadata": {},
   "source": [
    "---\n",
    "___Answer:___\n",
    "\n",
    "Isolating $\\lambda_h^E$ in (2d) and dropping domain constraints yields\n",
    "\n",
    "\\begin{align}\n",
    "    \\text{MWP}^{HP}_h = \\frac{c_i-\\lambda_h^H}{\\nu_i}\n",
    "\\end{align}\n",
    "\n",
    "Given that $\\nu_i<0$ for heat pumps, the marginal willingness to pay for electricity is\n",
    "- decreasing the marginal costs $(c_i)$. \n",
    "\n",
    "    This is because all inputs are used in fixed proportions (i.e. the inputs are perfect complements). Higher generation costs of other inputs therefore cannot be mitigated by substuting for higher demand of electricity but directly translates into lower willingness to pay for electricity.\n",
    "- increasing in the unit revenue of heat $(p_h^H)$.\n",
    "\n",
    "    This is intuitive as higher revenues increases the willingess to pay for inputs. \n"
   ]
  },
  {
   "cell_type": "markdown",
   "id": "c2c16deb-8c38-4e23-985b-99efe8314b8b",
   "metadata": {},
   "source": [
    "## E1.6"
   ]
  },
  {
   "cell_type": "markdown",
   "id": "783b249f-4aee-4fe4-946c-f0690535d508",
   "metadata": {},
   "source": [
    "__Explain how the heat pump technology can be seen as an example of (i) electrification and (ii) flexible demand.__"
   ]
  },
  {
   "cell_type": "markdown",
   "id": "4782c9ac-3a84-4330-ad42-9c2a9309d11b",
   "metadata": {},
   "source": [
    "---\n",
    "___Answer:___\n",
    "\n",
    "*Ad i)* Electrification is an important strategy in the green transition and refers to the process whereby renewable electricity replaces fossil fuels in the production of goods and services. The heat pump technology is an example of electrification of the heat sector, since renewable electricity is converted into heat to provide heating survices. Note that this should not be confused with use of e.g. solar heating or biomass in the generation of heating services. \n",
    "\n",
    "\n",
    "*Ad ii)* The heat pump is also an example of a flexible demand technology in the electricity system in that the marginal willingness to pay is non-constant and electricity demand from heat pumps are increasing in lower electricity prices. Similarly, heat pumps can shut down and reduce electricity demand when electricity costs are prohibitively high. While these features are also present in our simple model, there is an additional flexibility of heat pumps not captured by the model: This additional flexibility of heat pumps comes from the fact that heat is more easily stored. For instance, even if heat prices are low when electricity prices are also low, the generated heat can more easily be stored for when demand for heat is high."
   ]
  },
  {
   "cell_type": "markdown",
   "id": "9faa98e9-a1b7-4129-88c0-2355b1dfbab5",
   "metadata": {},
   "source": [
    "# Part 2: Numerical exercises"
   ]
  },
  {
   "cell_type": "markdown",
   "id": "366940b1-4453-4acb-8540-0d14aba7ce36",
   "metadata": {},
   "source": [
    "In the rest of this exercise, we will be working with the a simplified version of the `mBasicPH` model adapted to the model setting above. The file `HP_InputData.xlsx` includes a model database with parameters for the model. We refer to the scenario with parameters as outlined in this data as the _baseline_ scenario. The table below translates the names used in the data to the symbols used in the model. \n",
    "\n",
    "| Name in excel file | Model symbol |\n",
    "|:--------|:--------:|\n",
    "| id | $i$ | \n",
    "| BFt | $j$ |\n",
    "| h | $h$ |\n",
    "|  FuelMix   |  $\\mu_{i,j}$   |\n",
    "|  GeneratingCapacity   | $q_i$   |\n",
    "|  OtherMC   | $c_i^{oth}$   |\n",
    "| E2H | $\\nu_i$ |\n",
    "| FuelPrice | $p_j^f$ |\n",
    "| EmissionIntensity | $\\phi_j$ |\n",
    "| MWP, E | $\\mu_E$ |\n",
    "| MWP, H | $\\mu_E$ |\n",
    "| LoadVariation, E | $L_h^E$ |\n",
    "| LoadVariation, H | $L_h^H$ |\n",
    "| CapVariation | $\\gamma_{i,h} $ |"
   ]
  },
  {
   "cell_type": "markdown",
   "id": "016c70e3-5dcb-4dde-a8ce-ce2a7a545548",
   "metadata": {},
   "source": [
    "For working with the model, we first import some packages and the modelclass:"
   ]
  },
  {
   "cell_type": "code",
   "execution_count": 1,
   "id": "9f2498de-d6e7-4c13-9695-1571fb03c7d8",
   "metadata": {
    "tags": []
   },
   "outputs": [],
   "source": [
    "# from .py.modelclass import *\n",
    "%run ../stdPackages.ipynb\n",
    "from pyDbs import *\n",
    "from IPython.display import Image\n",
    "figs_path = os.path.join(d['curr'],'E41', 'Figs')\n",
    "os.chdir(os.path.join(d['curr'], 'py'))\n",
    "from modelclass import *\n",
    "os.chdir(d['curr'])"
   ]
  },
  {
   "cell_type": "markdown",
   "id": "62e21e23-ecf0-41c4-b031-41d0a5eb22d4",
   "metadata": {
    "tags": []
   },
   "source": [
    "Next we load the database:"
   ]
  },
  {
   "cell_type": "code",
   "execution_count": 2,
   "id": "839c488d-c882-4fcb-a1c0-c284f6a33933",
   "metadata": {
    "tags": []
   },
   "outputs": [],
   "source": [
    "kwargs = {'variables': ['Fundamentals', 'LoadVariables', 'GeneratorsVariables'],\n",
    "        'maps': ['LoadMaps','GeneratorsMaps'],\n",
    "        'variable2D': ['HourlyVariation'],\n",
    "        'scalars': ['Scalars']}\n",
    "path_to_data = os.path.join(d['curr'],'Data','E41_Data.xlsx')\n",
    "db = read.dbFromWB(path_to_data, kwargs)\n",
    "readSets(db)"
   ]
  },
  {
   "cell_type": "markdown",
   "id": "458a2e2d-de05-4291-9333-70aa17670cfe",
   "metadata": {
    "tags": []
   },
   "source": [
    "We then initialize and solve the model:"
   ]
  },
  {
   "cell_type": "code",
   "execution_count": 3,
   "id": "36f0005f-a035-42b6-a698-ec2f20a0e398",
   "metadata": {
    "tags": []
   },
   "outputs": [
    {
     "name": "stdout",
     "output_type": "stream",
     "text": [
      "Solution status 0: Optimization terminated successfully.\n"
     ]
    }
   ],
   "source": [
    "m = mSimple(db.copy()) # initialize using the database 'db' from above.\n",
    "m()"
   ]
  },
  {
   "cell_type": "markdown",
   "id": "cd99edfe-d4d8-48aa-8c77-e3e702c6144f",
   "metadata": {
    "tags": []
   },
   "source": [
    "Finally, we will store some variables for the different technology types:"
   ]
  },
  {
   "cell_type": "code",
   "execution_count": 4,
   "id": "17163295-fca9-4aa6-8fb8-2561a6df20f9",
   "metadata": {
    "tags": []
   },
   "outputs": [],
   "source": [
    "# Get a mapping from id to modelTech:\n",
    "id2modelTech = m.db['id2tech'].to_frame(index=False).merge(m.db['tech2modelTech'].to_frame(index=False)).set_index(['id','tech','modelTech'])\n",
    "# Back-pressure plants:\n",
    "BP_id = db['id'][db['id'].isin(id2modelTech.xs('BP',level='modelTech').index.get_level_values('id'))]\n",
    "# Standard electricity plants:\n",
    "StdE_id = db['id'][db['id'].isin(id2modelTech.xs('standard_E',level='modelTech').index.get_level_values('id'))]\n",
    "# All electricity plants:\n",
    "E_id = BP_id.append(StdE_id)\n",
    "# Standard heat plants:\n",
    "StdH_id = db['id'][db['id'].isin(id2modelTech.xs('standard_H',level='modelTech').index.get_level_values('id'))]\n",
    "# Heat pumps\n",
    "HP_id = db['id'][db['id'].isin(id2modelTech.xs('HP',level='modelTech').index.get_level_values('id'))]\n",
    "# All heat plants\n",
    "H_id = StdH_id.append(HP_id)"
   ]
  },
  {
   "cell_type": "markdown",
   "id": "9aeddab0-84f2-4705-ab0a-9b919ff2d5e5",
   "metadata": {},
   "source": [
    "In the following, we will show how to  illustrate the hourly demand curve for heat. We will draw the curve $h=\\{1,5\\}$. You task in the following, will be to draw the supply curve for heat, as well as the supply and demand curve for electricity in the same hours.\n",
    "\n",
    "We start by making a grid of $h=\\{1,5\\}$:"
   ]
  },
  {
   "cell_type": "code",
   "execution_count": 5,
   "id": "816bfcb2-8588-4145-a18e-4ef2b8a945e9",
   "metadata": {
    "tags": []
   },
   "outputs": [],
   "source": [
    "h_grid = [1,5]"
   ]
  },
  {
   "cell_type": "markdown",
   "id": "9dd689ce-1d33-4b48-ab38-85235c573284",
   "metadata": {
    "tags": []
   },
   "source": [
    "We will also define a minimum price for drawing the curve:"
   ]
  },
  {
   "cell_type": "code",
   "execution_count": 6,
   "id": "cec29a5c-fc49-4d8b-8689-115958a25d97",
   "metadata": {
    "tags": []
   },
   "outputs": [],
   "source": [
    "loλ = 0"
   ]
  },
  {
   "cell_type": "markdown",
   "id": "f16ebb2f-b6cf-4e7f-aba0-6c63fa00ab7d",
   "metadata": {},
   "source": [
    "To make the illustration, we will first make a dateframe with quantity demand and the associated willingness to pay:"
   ]
  },
  {
   "cell_type": "code",
   "execution_count": 7,
   "id": "cee463da-e4b4-42fd-b18f-6ac580c93b77",
   "metadata": {
    "tags": []
   },
   "outputs": [],
   "source": [
    "# First we create a multiindex for the dataframe\n",
    "mi_Hd = pd.MultiIndex.from_product([['c1'],m.db['h']],names=['c_type','h'])\n",
    "\n",
    "# Now we build a dataframe with the demanded quantity and the marginal willingess to pay.\n",
    "df_Hd = pd.concat([\n",
    "  pd.Series(m.hourlyLoad_H.tolist(),index=mi_Hd,name='H'), # Hourly demand\n",
    "  pd.Series(list(np.repeat(m.db['MWP_H'],len(m.db['h']))),index=mi_Hd,name='mwp'), # MWP_H\n",
    "],axis=1)"
   ]
  },
  {
   "cell_type": "markdown",
   "id": "86a40e21-f884-4048-b5df-895aabef95a2",
   "metadata": {},
   "source": [
    "Because the demand is kinked at the willingess to pay, we need a data-point above and below to draw the curve.\n",
    "\n",
    "The point above the kink is:"
   ]
  },
  {
   "cell_type": "code",
   "execution_count": 8,
   "id": "f39469e4-4246-481e-ba3d-74e78b0307b5",
   "metadata": {
    "tags": []
   },
   "outputs": [],
   "source": [
    "ϵ = np.finfo(float).eps*10**6 # small number\n",
    "# Upper point (crossing with y-axes):\n",
    "mi_Hd_up = pd.MultiIndex.from_product([['0'],db['h'].tolist()], names=['c_type','h'])\n",
    "df_Hd_up = pd.concat([\n",
    "    pd.Series(-ϵ,index=mi_Hd_up,name='H'),\n",
    "    pd.Series(m.db['MWP_H']+ϵ,index=mi_Hd_up,name='mwp')\n",
    "],axis=1)"
   ]
  },
  {
   "cell_type": "markdown",
   "id": "79642962-af4a-47e0-bdd1-cd90549f2efe",
   "metadata": {
    "tags": []
   },
   "source": [
    "The point "
   ]
  },
  {
   "cell_type": "code",
   "execution_count": 9,
   "id": "684811f0-8ccb-4c1d-b4ba-bcf245e47c43",
   "metadata": {
    "tags": []
   },
   "outputs": [],
   "source": [
    "# Lower point (crossing with x-axis):\n",
    "mi_Hd_lo = pd.MultiIndex.from_product([['-1'],db['h'].tolist()],names=['c_type','h'])\n",
    "df_Hd_lo = pd.concat([\n",
    "    pd.Series(ϵ,index=mi_Hd_lo,name='H'),\n",
    "    pd.Series(loλ,index=mi_Hd_lo,name='mwp')\n",
    "],axis=1)"
   ]
  },
  {
   "cell_type": "markdown",
   "id": "caa1b91e-26e7-498f-8ccc-d1cc533faa9c",
   "metadata": {},
   "source": [
    "Finally, we collect it all in a common dataframe and aggregate demand:"
   ]
  },
  {
   "cell_type": "code",
   "execution_count": 10,
   "id": "bae2f625-6a39-458d-b04b-593f6efd31ed",
   "metadata": {
    "tags": []
   },
   "outputs": [],
   "source": [
    "df_Hd = pd.concat([df_Hd,df_Hd_up,df_Hd_lo],axis=0).sort_values(['h','mwp'],ascending=[True,False])\n",
    "df_Hd['H_cs'] =df_Hd.groupby('h')['H'].transform('cumsum')"
   ]
  },
  {
   "cell_type": "markdown",
   "id": "3f84b473-fe95-4f5f-a65c-f8990339bb95",
   "metadata": {},
   "source": [
    "Now we make the graph:"
   ]
  },
  {
   "cell_type": "code",
   "execution_count": 11,
   "id": "ce8830b1-19ce-4119-9cd6-71964649bb0a",
   "metadata": {
    "tags": []
   },
   "outputs": [
    {
     "name": "stderr",
     "output_type": "stream",
     "text": [
      "findfont: Font family ['Palatino Linotype'] not found. Falling back to DejaVu Sans.\n",
      "findfont: Font family ['Palatino Linotype'] not found. Falling back to DejaVu Sans.\n",
      "findfont: Font family ['Palatino Linotype'] not found. Falling back to DejaVu Sans.\n"
     ]
    },
    {
     "data": {
      "image/png": "[encoded data removed]",
      "text/plain": [
       "<Figure size 800x550 with 2 Axes>"
      ]
     },
     "metadata": {},
     "output_type": "display_data"
    }
   ],
   "source": [
    "fig, ax = plt.subplots(ncols=2,sharex=True,sharey=True)\n",
    "for i in range(len(h_grid)):\n",
    "    h = h_grid[i]\n",
    "    ax[i].step(df_Hd.xs(h,level='h')['H_cs'],df_Hd.xs(h,level='h')['mwp'])\n",
    "    ax[i].set_title(r'$h=$'+str(h))\n",
    "    \n",
    "[ax[i].set_xlabel('MWh') for i in [0,1]];\n",
    "ax[0].set_ylabel('Euros/MWh')\n",
    "fig.tight_layout()"
   ]
  },
  {
   "cell_type": "markdown",
   "id": "ed6d6af0-a4bf-4603-ab83-b70bbdb54be4",
   "metadata": {},
   "source": [
    "## E2.1"
   ]
  },
  {
   "cell_type": "markdown",
   "id": "5162c775-f2c0-4570-9427-fe2724df4180",
   "metadata": {},
   "source": [
    "__Compute and illustrate the hourly supply curve (i.e. the merit order curve) for heat for hours $h=\\{1,5\\}$. Include also the demand curve and the optimal value ${\\lambda^H_h}^*$ Finally, discuss how the reservation price of heat can be negative in $h=1$.__\n",
    "\n",
    "*Note: To compute the supply curve, you have to realize the the reservation price for back-pressure plants and heat pumps is not equal to their marginal costs $(mc_i)$ because their reservation price depend on the electricity market. Therefore, you may draw the supply curve given the optimal value ${\\lambda_{h}^{E}}^{*}$.*\n",
    "\n",
    "*Furthermore, the graph should look something like this:*"
   ]
  },
  {
   "cell_type": "code",
   "execution_count": 12,
   "id": "cdf293f2-5eca-4809-ae5d-aef412d4cbca",
   "metadata": {
    "tags": []
   },
   "outputs": [
    {
     "ename": "FileNotFoundError",
     "evalue": "No such file or directory: '/Users/l/Desktop/Programming/EnergyEconomicsE2023/Exercises/E41/E41/Figs/E2.1_sol.png'",
     "output_type": "error",
     "traceback": [
      "\u001b[0;31m---------------------------------------------------------------------------\u001b[0m",
      "\u001b[0;31mTypeError\u001b[0m                                 Traceback (most recent call last)",
      "File \u001b[0;32m~/opt/anaconda3/lib/python3.9/site-packages/IPython/core/display.py:1032\u001b[0m, in \u001b[0;36mImage._data_and_metadata\u001b[0;34m(self, always_both)\u001b[0m\n\u001b[1;32m   1031\u001b[0m \u001b[39mtry\u001b[39;00m:\n\u001b[0;32m-> 1032\u001b[0m     b64_data \u001b[39m=\u001b[39m b2a_base64(\u001b[39mself\u001b[39;49m\u001b[39m.\u001b[39;49mdata)\u001b[39m.\u001b[39mdecode(\u001b[39m'\u001b[39m\u001b[39mascii\u001b[39m\u001b[39m'\u001b[39m)\n\u001b[1;32m   1033\u001b[0m \u001b[39mexcept\u001b[39;00m \u001b[39mTypeError\u001b[39;00m \u001b[39mas\u001b[39;00m e:\n",
      "\u001b[0;31mTypeError\u001b[0m: a bytes-like object is required, not 'str'",
      "\nThe above exception was the direct cause of the following exception:\n",
      "\u001b[0;31mFileNotFoundError\u001b[0m                         Traceback (most recent call last)",
      "File \u001b[0;32m~/opt/anaconda3/lib/python3.9/site-packages/IPython/core/formatters.py:973\u001b[0m, in \u001b[0;36mMimeBundleFormatter.__call__\u001b[0;34m(self, obj, include, exclude)\u001b[0m\n\u001b[1;32m    970\u001b[0m     method \u001b[39m=\u001b[39m get_real_method(obj, \u001b[39mself\u001b[39m\u001b[39m.\u001b[39mprint_method)\n\u001b[1;32m    972\u001b[0m     \u001b[39mif\u001b[39;00m method \u001b[39mis\u001b[39;00m \u001b[39mnot\u001b[39;00m \u001b[39mNone\u001b[39;00m:\n\u001b[0;32m--> 973\u001b[0m         \u001b[39mreturn\u001b[39;00m method(include\u001b[39m=\u001b[39;49minclude, exclude\u001b[39m=\u001b[39;49mexclude)\n\u001b[1;32m    974\u001b[0m     \u001b[39mreturn\u001b[39;00m \u001b[39mNone\u001b[39;00m\n\u001b[1;32m    975\u001b[0m \u001b[39melse\u001b[39;00m:\n",
      "File \u001b[0;32m~/opt/anaconda3/lib/python3.9/site-packages/IPython/core/display.py:1022\u001b[0m, in \u001b[0;36mImage._repr_mimebundle_\u001b[0;34m(self, include, exclude)\u001b[0m\n\u001b[1;32m   1020\u001b[0m \u001b[39mif\u001b[39;00m \u001b[39mself\u001b[39m\u001b[39m.\u001b[39membed:\n\u001b[1;32m   1021\u001b[0m     mimetype \u001b[39m=\u001b[39m \u001b[39mself\u001b[39m\u001b[39m.\u001b[39m_mimetype\n\u001b[0;32m-> 1022\u001b[0m     data, metadata \u001b[39m=\u001b[39m \u001b[39mself\u001b[39;49m\u001b[39m.\u001b[39;49m_data_and_metadata(always_both\u001b[39m=\u001b[39;49m\u001b[39mTrue\u001b[39;49;00m)\n\u001b[1;32m   1023\u001b[0m     \u001b[39mif\u001b[39;00m metadata:\n\u001b[1;32m   1024\u001b[0m         metadata \u001b[39m=\u001b[39m {mimetype: metadata}\n",
      "File \u001b[0;32m~/opt/anaconda3/lib/python3.9/site-packages/IPython/core/display.py:1034\u001b[0m, in \u001b[0;36mImage._data_and_metadata\u001b[0;34m(self, always_both)\u001b[0m\n\u001b[1;32m   1032\u001b[0m     b64_data \u001b[39m=\u001b[39m b2a_base64(\u001b[39mself\u001b[39m\u001b[39m.\u001b[39mdata)\u001b[39m.\u001b[39mdecode(\u001b[39m'\u001b[39m\u001b[39mascii\u001b[39m\u001b[39m'\u001b[39m)\n\u001b[1;32m   1033\u001b[0m \u001b[39mexcept\u001b[39;00m \u001b[39mTypeError\u001b[39;00m \u001b[39mas\u001b[39;00m e:\n\u001b[0;32m-> 1034\u001b[0m     \u001b[39mraise\u001b[39;00m \u001b[39mFileNotFoundError\u001b[39;00m(\n\u001b[1;32m   1035\u001b[0m         \u001b[39m\"\u001b[39m\u001b[39mNo such file or directory: \u001b[39m\u001b[39m'\u001b[39m\u001b[39m%s\u001b[39;00m\u001b[39m'\u001b[39m\u001b[39m\"\u001b[39m \u001b[39m%\u001b[39m (\u001b[39mself\u001b[39m\u001b[39m.\u001b[39mdata)) \u001b[39mfrom\u001b[39;00m \u001b[39me\u001b[39;00m\n\u001b[1;32m   1036\u001b[0m md \u001b[39m=\u001b[39m {}\n\u001b[1;32m   1037\u001b[0m \u001b[39mif\u001b[39;00m \u001b[39mself\u001b[39m\u001b[39m.\u001b[39mmetadata:\n",
      "\u001b[0;31mFileNotFoundError\u001b[0m: No such file or directory: '/Users/l/Desktop/Programming/EnergyEconomicsE2023/Exercises/E41/E41/Figs/E2.1_sol.png'"
     ]
    },
    {
     "ename": "FileNotFoundError",
     "evalue": "No such file or directory: '/Users/l/Desktop/Programming/EnergyEconomicsE2023/Exercises/E41/E41/Figs/E2.1_sol.png'",
     "output_type": "error",
     "traceback": [
      "\u001b[0;31m---------------------------------------------------------------------------\u001b[0m",
      "\u001b[0;31mTypeError\u001b[0m                                 Traceback (most recent call last)",
      "File \u001b[0;32m~/opt/anaconda3/lib/python3.9/site-packages/IPython/core/display.py:1032\u001b[0m, in \u001b[0;36mImage._data_and_metadata\u001b[0;34m(self, always_both)\u001b[0m\n\u001b[1;32m   1031\u001b[0m \u001b[39mtry\u001b[39;00m:\n\u001b[0;32m-> 1032\u001b[0m     b64_data \u001b[39m=\u001b[39m b2a_base64(\u001b[39mself\u001b[39;49m\u001b[39m.\u001b[39;49mdata)\u001b[39m.\u001b[39mdecode(\u001b[39m'\u001b[39m\u001b[39mascii\u001b[39m\u001b[39m'\u001b[39m)\n\u001b[1;32m   1033\u001b[0m \u001b[39mexcept\u001b[39;00m \u001b[39mTypeError\u001b[39;00m \u001b[39mas\u001b[39;00m e:\n",
      "\u001b[0;31mTypeError\u001b[0m: a bytes-like object is required, not 'str'",
      "\nThe above exception was the direct cause of the following exception:\n",
      "\u001b[0;31mFileNotFoundError\u001b[0m                         Traceback (most recent call last)",
      "File \u001b[0;32m~/opt/anaconda3/lib/python3.9/site-packages/IPython/core/formatters.py:343\u001b[0m, in \u001b[0;36mBaseFormatter.__call__\u001b[0;34m(self, obj)\u001b[0m\n\u001b[1;32m    341\u001b[0m     method \u001b[39m=\u001b[39m get_real_method(obj, \u001b[39mself\u001b[39m\u001b[39m.\u001b[39mprint_method)\n\u001b[1;32m    342\u001b[0m     \u001b[39mif\u001b[39;00m method \u001b[39mis\u001b[39;00m \u001b[39mnot\u001b[39;00m \u001b[39mNone\u001b[39;00m:\n\u001b[0;32m--> 343\u001b[0m         \u001b[39mreturn\u001b[39;00m method()\n\u001b[1;32m    344\u001b[0m     \u001b[39mreturn\u001b[39;00m \u001b[39mNone\u001b[39;00m\n\u001b[1;32m    345\u001b[0m \u001b[39melse\u001b[39;00m:\n",
      "File \u001b[0;32m~/opt/anaconda3/lib/python3.9/site-packages/IPython/core/display.py:1054\u001b[0m, in \u001b[0;36mImage._repr_png_\u001b[0;34m(self)\u001b[0m\n\u001b[1;32m   1052\u001b[0m \u001b[39mdef\u001b[39;00m \u001b[39m_repr_png_\u001b[39m(\u001b[39mself\u001b[39m):\n\u001b[1;32m   1053\u001b[0m     \u001b[39mif\u001b[39;00m \u001b[39mself\u001b[39m\u001b[39m.\u001b[39membed \u001b[39mand\u001b[39;00m \u001b[39mself\u001b[39m\u001b[39m.\u001b[39mformat \u001b[39m==\u001b[39m \u001b[39mself\u001b[39m\u001b[39m.\u001b[39m_FMT_PNG:\n\u001b[0;32m-> 1054\u001b[0m         \u001b[39mreturn\u001b[39;00m \u001b[39mself\u001b[39;49m\u001b[39m.\u001b[39;49m_data_and_metadata()\n",
      "File \u001b[0;32m~/opt/anaconda3/lib/python3.9/site-packages/IPython/core/display.py:1034\u001b[0m, in \u001b[0;36mImage._data_and_metadata\u001b[0;34m(self, always_both)\u001b[0m\n\u001b[1;32m   1032\u001b[0m     b64_data \u001b[39m=\u001b[39m b2a_base64(\u001b[39mself\u001b[39m\u001b[39m.\u001b[39mdata)\u001b[39m.\u001b[39mdecode(\u001b[39m'\u001b[39m\u001b[39mascii\u001b[39m\u001b[39m'\u001b[39m)\n\u001b[1;32m   1033\u001b[0m \u001b[39mexcept\u001b[39;00m \u001b[39mTypeError\u001b[39;00m \u001b[39mas\u001b[39;00m e:\n\u001b[0;32m-> 1034\u001b[0m     \u001b[39mraise\u001b[39;00m \u001b[39mFileNotFoundError\u001b[39;00m(\n\u001b[1;32m   1035\u001b[0m         \u001b[39m\"\u001b[39m\u001b[39mNo such file or directory: \u001b[39m\u001b[39m'\u001b[39m\u001b[39m%s\u001b[39;00m\u001b[39m'\u001b[39m\u001b[39m\"\u001b[39m \u001b[39m%\u001b[39m (\u001b[39mself\u001b[39m\u001b[39m.\u001b[39mdata)) \u001b[39mfrom\u001b[39;00m \u001b[39me\u001b[39;00m\n\u001b[1;32m   1036\u001b[0m md \u001b[39m=\u001b[39m {}\n\u001b[1;32m   1037\u001b[0m \u001b[39mif\u001b[39;00m \u001b[39mself\u001b[39m\u001b[39m.\u001b[39mmetadata:\n",
      "\u001b[0;31mFileNotFoundError\u001b[0m: No such file or directory: '/Users/l/Desktop/Programming/EnergyEconomicsE2023/Exercises/E41/E41/Figs/E2.1_sol.png'"
     ]
    },
    {
     "data": {
      "text/plain": [
       "<IPython.core.display.Image object>"
      ]
     },
     "execution_count": 12,
     "metadata": {},
     "output_type": "execute_result"
    }
   ],
   "source": [
    "Image(os.path.join(figs_path,'E2.1_sol.png'))"
   ]
  },
  {
   "cell_type": "markdown",
   "id": "df0ee9e0-bafc-4297-ab26-b75bed26ce5c",
   "metadata": {},
   "source": [
    "---\n",
    "___Answer:___\n",
    "\n",
    "First, the capacities for generating heat is:"
   ]
  },
  {
   "cell_type": "code",
   "execution_count": 13,
   "id": "12e134f1-ef23-4309-a4e2-58ac84900c62",
   "metadata": {
    "tags": []
   },
   "outputs": [],
   "source": [
    "HCap = pd.concat([\n",
    "    m.hourlyGeneratingCap_H.loc[H_id,:],\n",
    "    m.hourlyGeneratingCap_E.loc[BP_id,:].div(db['E2H'].loc[BP_id]),\n",
    "],axis=0)"
   ]
  },
  {
   "cell_type": "markdown",
   "id": "2754452a-c362-4dbf-9b81-481895878290",
   "metadata": {},
   "source": [
    "Next, by isolating $\\lambda_h^H$ in eq (2b) we see that back-pressure plants reservation price in the optimum is equal to:\n",
    "\\begin{align}\n",
    "    \\forall i\\in\\mathcal{I}^{BP}: \\quad {r^{H}_{i,h}}^{*} = \\nu_i \\left(c_i-{\\lambda_h^E}^{*}\\right),\n",
    "\\end{align}\n",
    "which can be computed as:"
   ]
  },
  {
   "cell_type": "code",
   "execution_count": 14,
   "id": "4c837444-1327-4a55-ab7c-906ef86d831d",
   "metadata": {
    "tags": []
   },
   "outputs": [],
   "source": [
    "rH_BP = pd.Series(0,index = HCap.loc[BP_id,:].index).add(m.db['mc'].loc[BP_id]).sub(m.db['marginalSystemCosts_E']).mul(db['E2H'].loc[BP_id]).droplevel('g').reorder_levels(HCap.index.names)"
   ]
  },
  {
   "cell_type": "markdown",
   "id": "10f92b66-86a6-4185-9f0f-d25ac770a232",
   "metadata": {},
   "source": [
    "Simiarly, isolating for $\\lambda_h^H$ in (2d), the reservation price of heat pumps in optimum is\n",
    "\n",
    "\\begin{align}\n",
    "    \\forall i\\in\\mathcal{I}^{HP}: \\quad {r^H_{i,h}}^{*} = c_i - \\nu_i{\\lambda_h^E}^{*},\n",
    "\\end{align}\n",
    "\n",
    "which can be computed as:"
   ]
  },
  {
   "cell_type": "code",
   "execution_count": 15,
   "id": "5890271e-228a-4fe8-bef3-55a1647b7468",
   "metadata": {
    "tags": []
   },
   "outputs": [],
   "source": [
    "rH_HP = pd.Series(0,index=HCap.loc[HP_id,:].index).sub(m.db['marginalSystemCosts_E']).mul(db['E2H'].loc[HP_id]).add(m.db['mc'].loc[HP_id]).droplevel('g').reorder_levels(HCap.index.names)"
   ]
  },
  {
   "cell_type": "markdown",
   "id": "a78972b4-9e89-43b1-9ac5-c84407793984",
   "metadata": {},
   "source": [
    "Finally, the reservation price of standard heat producing plants are simply equal to their marginal costs, i.e."
   ]
  },
  {
   "cell_type": "code",
   "execution_count": 16,
   "id": "56f267e1-189d-409a-93b9-75e4a2989233",
   "metadata": {
    "tags": []
   },
   "outputs": [],
   "source": [
    "rH_Std = pd.Series(0,index=HCap.loc[StdH_id,:].index).add(m.db['mc'].loc[StdH_id]).reorder_levels(HCap.index.names)"
   ]
  },
  {
   "cell_type": "markdown",
   "id": "dbd895b7-f0ba-4b3a-bc7b-c3c289559acd",
   "metadata": {},
   "source": [
    "Now we can collect all reservation prices in a common dataframe:"
   ]
  },
  {
   "cell_type": "code",
   "execution_count": 17,
   "id": "38c5de46-7069-424d-a867-8f80b608dcfa",
   "metadata": {
    "tags": []
   },
   "outputs": [],
   "source": [
    "rH = pd.concat([rH_BP,rH_HP,rH_Std],axis=0)"
   ]
  },
  {
   "cell_type": "markdown",
   "id": "c51150dd-49e9-40e6-a257-dd8dcba332e4",
   "metadata": {
    "tags": []
   },
   "source": [
    "Finally, we can build the supply frame:"
   ]
  },
  {
   "cell_type": "code",
   "execution_count": 18,
   "id": "5c69695c-a9de-4de4-a6e1-bed2636e96af",
   "metadata": {
    "tags": []
   },
   "outputs": [],
   "source": [
    "df_Hs = pd.concat([HCap.rename('H').astype(float),rH.rename('r').astype(float)],axis=1)\n",
    "mi_Hs_lo = pd.MultiIndex.from_product([['0'],db['h']],names=df_Hs.index.names)\n",
    "df_Hs_lo = pd.concat([\n",
    "    pd.Series(0,index=mi_Hs_lo).rename('H'),\n",
    "    pd.Series(df_Hs.groupby('h')['r'].min().sub(ϵ).values,index=mi_Hs_lo,name='r')\n",
    "],axis=1)\n",
    "mi_Hs_up = pd.MultiIndex.from_product([['-1'],db['h']],names=df_Hs.index.names)\n",
    "df_Hs_up = pd.concat([\n",
    "    pd.Series(ϵ,index=mi_Hs_up).rename('H'),\n",
    "    pd.Series(m.db['MWP_H']*1.1,index=mi_Hs_up,name='r')\n",
    "],axis=1)\n",
    "df_Hs = pd.concat([df_Hs,df_Hs_up,df_Hs_lo],axis=0).sort_values(['h','r'])\n",
    "df_Hs['H_cs'] = df_Hs.groupby('h')['H'].transform('cumsum')"
   ]
  },
  {
   "cell_type": "markdown",
   "id": "77a1b8e4-3488-490e-b2a9-075bb78c79a4",
   "metadata": {},
   "source": [
    "And then plot the equilibrium for the two hours:"
   ]
  },
  {
   "cell_type": "code",
   "execution_count": 19,
   "id": "ee60586b-9311-4e44-8e51-d3158e709ded",
   "metadata": {
    "tags": []
   },
   "outputs": [
    {
     "ename": "FileNotFoundError",
     "evalue": "[Errno 2] No such file or directory: '/Users/l/Desktop/Programming/EnergyEconomicsE2023/Exercises/E41/E41/Figs\\\\E2.1_sol.png'",
     "output_type": "error",
     "traceback": [
      "\u001b[0;31m---------------------------------------------------------------------------\u001b[0m",
      "\u001b[0;31mFileNotFoundError\u001b[0m                         Traceback (most recent call last)",
      "\u001b[1;32m/Users/l/Desktop/Programming/EnergyEconomicsE2023/Exercises/E41/E41_SolutionGuide.ipynb Cell 64\u001b[0m line \u001b[0;36m<cell line: 16>\u001b[0;34m()\u001b[0m\n\u001b[1;32m     <a href='vscode-notebook-cell:/Users/l/Desktop/Programming/EnergyEconomicsE2023/Exercises/E41/E41_SolutionGuide.ipynb#Y120sZmlsZQ%3D%3D?line=13'>14</a>\u001b[0m fig\u001b[39m.\u001b[39mlegend([\u001b[39m'\u001b[39m\u001b[39mSupply\u001b[39m\u001b[39m'\u001b[39m,\u001b[39m'\u001b[39m\u001b[39mDemand\u001b[39m\u001b[39m'\u001b[39m,\u001b[39m'\u001b[39m\u001b[39mMarginal System Costs\u001b[39m\u001b[39m'\u001b[39m],loc\u001b[39m=\u001b[39m\u001b[39m'\u001b[39m\u001b[39mlower center\u001b[39m\u001b[39m'\u001b[39m, bbox_to_anchor\u001b[39m=\u001b[39m(\u001b[39m0.5\u001b[39m, \u001b[39m-\u001b[39m\u001b[39m0.05\u001b[39m), ncol\u001b[39m=\u001b[39m\u001b[39m3\u001b[39m, frameon\u001b[39m=\u001b[39m\u001b[39mTrue\u001b[39;00m)\n\u001b[1;32m     <a href='vscode-notebook-cell:/Users/l/Desktop/Programming/EnergyEconomicsE2023/Exercises/E41/E41_SolutionGuide.ipynb#Y120sZmlsZQ%3D%3D?line=14'>15</a>\u001b[0m fig\u001b[39m.\u001b[39mtight_layout()\n\u001b[0;32m---> <a href='vscode-notebook-cell:/Users/l/Desktop/Programming/EnergyEconomicsE2023/Exercises/E41/E41_SolutionGuide.ipynb#Y120sZmlsZQ%3D%3D?line=15'>16</a>\u001b[0m fig\u001b[39m.\u001b[39;49msavefig(\u001b[39mf\u001b[39;49m\u001b[39m\"\u001b[39;49m\u001b[39m{\u001b[39;49;00mfigs_path\u001b[39m}\u001b[39;49;00m\u001b[39m\\\\\u001b[39;49;00m\u001b[39mE2.1_sol.png\u001b[39;49m\u001b[39m\"\u001b[39;49m, edgecolor\u001b[39m=\u001b[39;49m\u001b[39m'\u001b[39;49m\u001b[39mk\u001b[39;49m\u001b[39m'\u001b[39;49m,bbox_inches\u001b[39m=\u001b[39;49m\u001b[39m'\u001b[39;49m\u001b[39mtight\u001b[39;49m\u001b[39m'\u001b[39;49m)\n",
      "File \u001b[0;32m~/opt/anaconda3/lib/python3.9/site-packages/matplotlib/figure.py:3046\u001b[0m, in \u001b[0;36mFigure.savefig\u001b[0;34m(self, fname, transparent, **kwargs)\u001b[0m\n\u001b[1;32m   3042\u001b[0m     \u001b[39mfor\u001b[39;00m ax \u001b[39min\u001b[39;00m \u001b[39mself\u001b[39m\u001b[39m.\u001b[39maxes:\n\u001b[1;32m   3043\u001b[0m         stack\u001b[39m.\u001b[39menter_context(\n\u001b[1;32m   3044\u001b[0m             ax\u001b[39m.\u001b[39mpatch\u001b[39m.\u001b[39m_cm_set(facecolor\u001b[39m=\u001b[39m\u001b[39m'\u001b[39m\u001b[39mnone\u001b[39m\u001b[39m'\u001b[39m, edgecolor\u001b[39m=\u001b[39m\u001b[39m'\u001b[39m\u001b[39mnone\u001b[39m\u001b[39m'\u001b[39m))\n\u001b[0;32m-> 3046\u001b[0m \u001b[39mself\u001b[39;49m\u001b[39m.\u001b[39;49mcanvas\u001b[39m.\u001b[39;49mprint_figure(fname, \u001b[39m*\u001b[39;49m\u001b[39m*\u001b[39;49mkwargs)\n",
      "File \u001b[0;32m~/opt/anaconda3/lib/python3.9/site-packages/matplotlib/backend_bases.py:2319\u001b[0m, in \u001b[0;36mFigureCanvasBase.print_figure\u001b[0;34m(self, filename, dpi, facecolor, edgecolor, orientation, format, bbox_inches, pad_inches, bbox_extra_artists, backend, **kwargs)\u001b[0m\n\u001b[1;32m   2315\u001b[0m \u001b[39mtry\u001b[39;00m:\n\u001b[1;32m   2316\u001b[0m     \u001b[39m# _get_renderer may change the figure dpi (as vector formats\u001b[39;00m\n\u001b[1;32m   2317\u001b[0m     \u001b[39m# force the figure dpi to 72), so we need to set it again here.\u001b[39;00m\n\u001b[1;32m   2318\u001b[0m     \u001b[39mwith\u001b[39;00m cbook\u001b[39m.\u001b[39m_setattr_cm(\u001b[39mself\u001b[39m\u001b[39m.\u001b[39mfigure, dpi\u001b[39m=\u001b[39mdpi):\n\u001b[0;32m-> 2319\u001b[0m         result \u001b[39m=\u001b[39m print_method(\n\u001b[1;32m   2320\u001b[0m             filename,\n\u001b[1;32m   2321\u001b[0m             facecolor\u001b[39m=\u001b[39;49mfacecolor,\n\u001b[1;32m   2322\u001b[0m             edgecolor\u001b[39m=\u001b[39;49medgecolor,\n\u001b[1;32m   2323\u001b[0m             orientation\u001b[39m=\u001b[39;49morientation,\n\u001b[1;32m   2324\u001b[0m             bbox_inches_restore\u001b[39m=\u001b[39;49m_bbox_inches_restore,\n\u001b[1;32m   2325\u001b[0m             \u001b[39m*\u001b[39;49m\u001b[39m*\u001b[39;49mkwargs)\n\u001b[1;32m   2326\u001b[0m \u001b[39mfinally\u001b[39;00m:\n\u001b[1;32m   2327\u001b[0m     \u001b[39mif\u001b[39;00m bbox_inches \u001b[39mand\u001b[39;00m restore_bbox:\n",
      "File \u001b[0;32m~/opt/anaconda3/lib/python3.9/site-packages/matplotlib/backend_bases.py:1648\u001b[0m, in \u001b[0;36m_check_savefig_extra_args.<locals>.wrapper\u001b[0;34m(*args, **kwargs)\u001b[0m\n\u001b[1;32m   1640\u001b[0m     _api\u001b[39m.\u001b[39mwarn_deprecated(\n\u001b[1;32m   1641\u001b[0m         \u001b[39m'\u001b[39m\u001b[39m3.3\u001b[39m\u001b[39m'\u001b[39m, name\u001b[39m=\u001b[39mname, removal\u001b[39m=\u001b[39m\u001b[39m'\u001b[39m\u001b[39m3.6\u001b[39m\u001b[39m'\u001b[39m,\n\u001b[1;32m   1642\u001b[0m         message\u001b[39m=\u001b[39m\u001b[39m'\u001b[39m\u001b[39m%(name)s\u001b[39;00m\u001b[39m() got unexpected keyword argument \u001b[39m\u001b[39m\"\u001b[39m\u001b[39m'\u001b[39m\n\u001b[1;32m   1643\u001b[0m                 \u001b[39m+\u001b[39m arg \u001b[39m+\u001b[39m \u001b[39m'\u001b[39m\u001b[39m\"\u001b[39m\u001b[39m which is no longer supported as of \u001b[39m\u001b[39m'\u001b[39m\n\u001b[1;32m   1644\u001b[0m                 \u001b[39m'\u001b[39m\u001b[39m%(since)s\u001b[39;00m\u001b[39m and will become an error \u001b[39m\u001b[39m'\u001b[39m\n\u001b[1;32m   1645\u001b[0m                 \u001b[39m'\u001b[39m\u001b[39m%(removal)s\u001b[39;00m\u001b[39m'\u001b[39m)\n\u001b[1;32m   1646\u001b[0m     kwargs\u001b[39m.\u001b[39mpop(arg)\n\u001b[0;32m-> 1648\u001b[0m \u001b[39mreturn\u001b[39;00m func(\u001b[39m*\u001b[39;49margs, \u001b[39m*\u001b[39;49m\u001b[39m*\u001b[39;49mkwargs)\n",
      "File \u001b[0;32m~/opt/anaconda3/lib/python3.9/site-packages/matplotlib/_api/deprecation.py:415\u001b[0m, in \u001b[0;36mdelete_parameter.<locals>.wrapper\u001b[0;34m(*inner_args, **inner_kwargs)\u001b[0m\n\u001b[1;32m    405\u001b[0m     deprecation_addendum \u001b[39m=\u001b[39m (\n\u001b[1;32m    406\u001b[0m         \u001b[39mf\u001b[39m\u001b[39m\"\u001b[39m\u001b[39mIf any parameter follows \u001b[39m\u001b[39m{\u001b[39;00mname\u001b[39m!r}\u001b[39;00m\u001b[39m, they should be passed as \u001b[39m\u001b[39m\"\u001b[39m\n\u001b[1;32m    407\u001b[0m         \u001b[39mf\u001b[39m\u001b[39m\"\u001b[39m\u001b[39mkeyword, not positionally.\u001b[39m\u001b[39m\"\u001b[39m)\n\u001b[1;32m    408\u001b[0m     warn_deprecated(\n\u001b[1;32m    409\u001b[0m         since,\n\u001b[1;32m    410\u001b[0m         name\u001b[39m=\u001b[39m\u001b[39mrepr\u001b[39m(name),\n\u001b[0;32m   (...)\u001b[0m\n\u001b[1;32m    413\u001b[0m                  \u001b[39melse\u001b[39;00m deprecation_addendum,\n\u001b[1;32m    414\u001b[0m         \u001b[39m*\u001b[39m\u001b[39m*\u001b[39mkwargs)\n\u001b[0;32m--> 415\u001b[0m \u001b[39mreturn\u001b[39;00m func(\u001b[39m*\u001b[39;49minner_args, \u001b[39m*\u001b[39;49m\u001b[39m*\u001b[39;49minner_kwargs)\n",
      "File \u001b[0;32m~/opt/anaconda3/lib/python3.9/site-packages/matplotlib/backends/backend_agg.py:541\u001b[0m, in \u001b[0;36mFigureCanvasAgg.print_png\u001b[0;34m(self, filename_or_obj, metadata, pil_kwargs, *args)\u001b[0m\n\u001b[1;32m    494\u001b[0m \u001b[39m\"\"\"\u001b[39;00m\n\u001b[1;32m    495\u001b[0m \u001b[39mWrite the figure to a PNG file.\u001b[39;00m\n\u001b[1;32m    496\u001b[0m \n\u001b[0;32m   (...)\u001b[0m\n\u001b[1;32m    538\u001b[0m \u001b[39m    *metadata*, including the default 'Software' key.\u001b[39;00m\n\u001b[1;32m    539\u001b[0m \u001b[39m\"\"\"\u001b[39;00m\n\u001b[1;32m    540\u001b[0m FigureCanvasAgg\u001b[39m.\u001b[39mdraw(\u001b[39mself\u001b[39m)\n\u001b[0;32m--> 541\u001b[0m mpl\u001b[39m.\u001b[39;49mimage\u001b[39m.\u001b[39;49mimsave(\n\u001b[1;32m    542\u001b[0m     filename_or_obj, \u001b[39mself\u001b[39;49m\u001b[39m.\u001b[39;49mbuffer_rgba(), \u001b[39mformat\u001b[39;49m\u001b[39m=\u001b[39;49m\u001b[39m\"\u001b[39;49m\u001b[39mpng\u001b[39;49m\u001b[39m\"\u001b[39;49m, origin\u001b[39m=\u001b[39;49m\u001b[39m\"\u001b[39;49m\u001b[39mupper\u001b[39;49m\u001b[39m\"\u001b[39;49m,\n\u001b[1;32m    543\u001b[0m     dpi\u001b[39m=\u001b[39;49m\u001b[39mself\u001b[39;49m\u001b[39m.\u001b[39;49mfigure\u001b[39m.\u001b[39;49mdpi, metadata\u001b[39m=\u001b[39;49mmetadata, pil_kwargs\u001b[39m=\u001b[39;49mpil_kwargs)\n",
      "File \u001b[0;32m~/opt/anaconda3/lib/python3.9/site-packages/matplotlib/image.py:1675\u001b[0m, in \u001b[0;36mimsave\u001b[0;34m(fname, arr, vmin, vmax, cmap, format, origin, dpi, metadata, pil_kwargs)\u001b[0m\n\u001b[1;32m   1673\u001b[0m pil_kwargs\u001b[39m.\u001b[39msetdefault(\u001b[39m\"\u001b[39m\u001b[39mformat\u001b[39m\u001b[39m\"\u001b[39m, \u001b[39mformat\u001b[39m)\n\u001b[1;32m   1674\u001b[0m pil_kwargs\u001b[39m.\u001b[39msetdefault(\u001b[39m\"\u001b[39m\u001b[39mdpi\u001b[39m\u001b[39m\"\u001b[39m, (dpi, dpi))\n\u001b[0;32m-> 1675\u001b[0m image\u001b[39m.\u001b[39;49msave(fname, \u001b[39m*\u001b[39;49m\u001b[39m*\u001b[39;49mpil_kwargs)\n",
      "File \u001b[0;32m~/opt/anaconda3/lib/python3.9/site-packages/PIL/Image.py:2317\u001b[0m, in \u001b[0;36mImage.save\u001b[0;34m(self, fp, format, **params)\u001b[0m\n\u001b[1;32m   2315\u001b[0m         fp \u001b[39m=\u001b[39m builtins\u001b[39m.\u001b[39mopen(filename, \u001b[39m\"\u001b[39m\u001b[39mr+b\u001b[39m\u001b[39m\"\u001b[39m)\n\u001b[1;32m   2316\u001b[0m     \u001b[39melse\u001b[39;00m:\n\u001b[0;32m-> 2317\u001b[0m         fp \u001b[39m=\u001b[39m builtins\u001b[39m.\u001b[39;49mopen(filename, \u001b[39m\"\u001b[39;49m\u001b[39mw+b\u001b[39;49m\u001b[39m\"\u001b[39;49m)\n\u001b[1;32m   2319\u001b[0m \u001b[39mtry\u001b[39;00m:\n\u001b[1;32m   2320\u001b[0m     save_handler(\u001b[39mself\u001b[39m, fp, filename)\n",
      "\u001b[0;31mFileNotFoundError\u001b[0m: [Errno 2] No such file or directory: '/Users/l/Desktop/Programming/EnergyEconomicsE2023/Exercises/E41/E41/Figs\\\\E2.1_sol.png'"
     ]
    },
    {
     "data": {
      "image/png": "[encoded data removed]",
      "text/plain": [
       "<Figure size 800x550 with 2 Axes>"
      ]
     },
     "metadata": {},
     "output_type": "display_data"
    }
   ],
   "source": [
    "fig, ax = plt.subplots(ncols=2,sharex=True,sharey=True)\n",
    "for i in range(len(h_grid)):\n",
    "    h = h_grid[i]\n",
    "    # Demand curve:\n",
    "    ax[i].step(df_Hd.xs(h,level='h')['H_cs'],df_Hd.xs(h,level='h')['mwp'])\n",
    "    # Supply curve:\n",
    "    ax[i].step(df_Hs.xs(h,level='h')['H_cs'],df_Hs.xs(h,level='h')['r'])\n",
    "    # Horizontal line indicating the equilibrium price\n",
    "    ax[i].hlines(xmin=0,xmax=df_Hd.xs(h,level='h')['H'].sum(),y=m.db['marginalSystemCosts_H'].xs(h,level='h').iloc[0],color='black',linestyle='--')\n",
    "    ax[i].set_title(r'$h=$'+str(h))\n",
    "    \n",
    "[ax[i].set_xlabel('MWh') for i in [0,1]];\n",
    "ax[0].set_ylabel('Euros/MWh')\n",
    "fig.legend(['Supply','Demand','Marginal System Costs'],loc='lower center', bbox_to_anchor=(0.5, -0.05), ncol=3, frameon=True)\n",
    "fig.tight_layout()\n",
    "fig.savefig(f\"{figs_path}\\\\E2.1_sol.png\", edgecolor='k',bbox_inches='tight')"
   ]
  },
  {
   "cell_type": "markdown",
   "id": "72a7cd9c-1380-4fa2-955c-7af058f309f2",
   "metadata": {},
   "source": [
    "Finally, we see that technologies with negative reservation prices are all of the back-pressure type:"
   ]
  },
  {
   "cell_type": "code",
   "execution_count": 20,
   "id": "3835ad9c-171e-4277-bf49-3f16bd2ba323",
   "metadata": {
    "tags": []
   },
   "outputs": [
    {
     "data": {
      "text/plain": [
       "id\n",
       "g1_BP_NatGas    -77.973312\n",
       "g1_BP_Coal      -66.833926\n",
       "g1_BP_BioMass    -9.176206\n",
       "Name: r, dtype: float64"
      ]
     },
     "execution_count": 20,
     "metadata": {},
     "output_type": "execute_result"
    }
   ],
   "source": [
    "df_tmp = df_Hs.xs(5,level='h').loc[df_Hs.xs(5,level='h')['r']<0,'r']\n",
    "df_tmp[df_tmp.index.isin(H_id.append(BP_id))]"
   ]
  },
  {
   "cell_type": "markdown",
   "id": "c7e34afd-c157-4605-a98b-0246b314eeb3",
   "metadata": {
    "tags": []
   },
   "source": [
    "This is despite them having marginal generation costs of"
   ]
  },
  {
   "cell_type": "code",
   "execution_count": 21,
   "id": "0f823eb3-98ee-4d18-8801-efb3815f7503",
   "metadata": {
    "tags": []
   },
   "outputs": [
    {
     "data": {
      "text/plain": [
       "id\n",
       "g1_BP_BioMass    81.273048\n",
       "g1_BP_Coal       20.435802\n",
       "g1_BP_NatGas     40.020529\n",
       "dtype: object"
      ]
     },
     "execution_count": 21,
     "metadata": {},
     "output_type": "execute_result"
    }
   ],
   "source": [
    "m.db['mc'].loc[BP_id]"
   ]
  },
  {
   "cell_type": "markdown",
   "id": "1e344820-6053-4ff6-bed1-bee57eaf6bc4",
   "metadata": {},
   "source": [
    "This is because the marginal system costs in hour $h=5$ is at ${\\lambda_h^E}^{*}=\\mu^E=100$, implying the back-pressure plants can use the revenue from electricity generating to essentially subsidize their reservation for heat generation. "
   ]
  },
  {
   "cell_type": "markdown",
   "id": "56a4be98-79fd-4a1e-bbd4-7ee673573fb2",
   "metadata": {},
   "source": [
    "## E2.2"
   ]
  },
  {
   "cell_type": "markdown",
   "id": "6816dbf8-f9c9-4ed5-b1de-05718bc230e0",
   "metadata": {},
   "source": [
    "__Illustrate the demand curve for electricity for $h=\\{1,5\\}$ and comment on why the maximum willingness to pay in $h=5$ is so high.__ \n",
    "\n",
    "_Note: For this, you have to illustrate the aggregate demand curve is composed of the sum of the set of conventional consumes $(c_E)$ as well that the sum of heat pumps' maximum capacity for electricity consumption: $-\\sum_{i\\in\\mathcal{I}^E}\\nu_iq_{i,h}$. Hence, you will have compute $\\text{MWP}^{HP}_h$ using your answer in [E1.4](#E1.4) as well as heat pumps' maximum input capacity of electricity._\n",
    "\n",
    "_Furthermore, the figure should look something like this:__"
   ]
  },
  {
   "cell_type": "code",
   "execution_count": null,
   "id": "20aed108-f1ef-4e28-ba4e-a605dafa3c4c",
   "metadata": {
    "tags": []
   },
   "outputs": [],
   "source": [
    "Image(os.path.join(figs_path,'E2.2_sol.png'))"
   ]
  },
  {
   "cell_type": "markdown",
   "id": "47657886-6911-4745-a139-f4c612603144",
   "metadata": {
    "tags": []
   },
   "source": [
    "---\n",
    "___Answer:___"
   ]
  },
  {
   "cell_type": "markdown",
   "id": "895287ca-319d-4ec5-b436-9e0494f7bc8b",
   "metadata": {
    "tags": []
   },
   "source": [
    "First, the reason for the high willingness to pay in $h=5$ $(\\mu^E_{HP}=339)$ in hour 5, is that the heating price at its maximum of ${\\lambda_5^H}^*=\\mu^H=100$. Given the parameter values of $c_{HP}$ and $\\nu_{HP}$ it is possible that the heat pump's willingess to pay for electricity is higher than $\\mu^E=100$.\n",
    "\n",
    "Second, for illustrating the graph, we first note that the maximum electricity input capacity of $i\\in\\mathcal{I}^{HP}$ can be computed as:"
   ]
  },
  {
   "cell_type": "code",
   "execution_count": null,
   "id": "f2d0d3e8-905a-4b60-ac8e-fd9b78cd4ab5",
   "metadata": {
    "tags": []
   },
   "outputs": [],
   "source": [
    "qE_HP = -m.hourlyGeneratingCap_H.loc[HP_id,:].mul(db['E2H'].loc[HP_id])"
   ]
  },
  {
   "cell_type": "markdown",
   "id": "61ea2e49-b55b-4d30-9e10-68f60b0dd39a",
   "metadata": {
    "tags": []
   },
   "source": [
    "Using the answer in [E1.5](#E1.5), $\\text{MWP}^{HP}_h$ can be computed as:"
   ]
  },
  {
   "cell_type": "code",
   "execution_count": null,
   "id": "1265f6d2-60d1-4ad9-afdd-678f73ab4292",
   "metadata": {
    "tags": []
   },
   "outputs": [],
   "source": [
    "MWP_HP = pd.Series(0,index=HCap.loc[HP_id,:].index).add(m.db['mc'].loc[HP_id]).add(-m.db['marginalSystemCosts_H'].droplevel('g')).div(db['E2H'].loc[HP_id])"
   ]
  },
  {
   "cell_type": "markdown",
   "id": "90d406b9-ea86-4cab-b813-2b4eb5988c3b",
   "metadata": {
    "tags": []
   },
   "source": [
    "We can collect demand from the heat pump together with the perfectly inelastic demand:"
   ]
  },
  {
   "cell_type": "code",
   "execution_count": null,
   "id": "14ac85ae-024f-4bcb-95e5-c69d0fbebc89",
   "metadata": {
    "tags": []
   },
   "outputs": [],
   "source": [
    "mi_Ed = pd.MultiIndex.from_product([['c1'],db['h']],names=['c_type','h'])\n",
    "df_Ed = pd.concat([\n",
    "    pd.concat([\n",
    "        pd.Series(m.hourlyLoad_E.values,index=mi_Ed,name='E'),\n",
    "        pd.Series(db['MWP_E'],index=mi_Ed,name='mwp')\n",
    "    ],axis=1),\n",
    "    pd.concat([\n",
    "        qE_HP.rename('E'),\n",
    "        MWP_HP.rename('mwp')\n",
    "    ],axis=1).rename_axis(index={'id':'c_type'})\n",
    "],axis=0).astype(float)"
   ]
  },
  {
   "cell_type": "markdown",
   "id": "fb4ce1fd-a52a-461f-a152-3f4b96501218",
   "metadata": {},
   "source": [
    "For plotting, we just need to add the upper and lower points:"
   ]
  },
  {
   "cell_type": "code",
   "execution_count": null,
   "id": "32270f89-3f10-49ab-b49e-5bf4e3702ed8",
   "metadata": {
    "tags": []
   },
   "outputs": [],
   "source": [
    "mi_Ed_up = pd.MultiIndex.from_product([['0'],db['h'].tolist()],names=['c_type','h'])\n",
    "df_Ed_up = pd.concat([\n",
    "    pd.Series(-ϵ,index=mi_Ed_up,name='E'),\n",
    "    pd.Series(df_Ed.groupby('h')['mwp'].max().values+ϵ,index=mi_Ed_up,name='mwp')\n",
    "],axis=1)\n",
    "mi_Ed_lo = pd.MultiIndex.from_product([['-1'],db['h'].tolist()],names=['c_type','h'])\n",
    "df_Ed_lo = pd.concat([\n",
    "    pd.Series(ϵ,index=mi_Ed_lo,name='E'),\n",
    "    pd.Series(loλ,index=mi_Ed_lo,name='mwp')\n",
    "],axis=1)\n",
    "df_Ed = pd.concat([df_Ed,df_Ed_up,df_Ed_lo],axis=0).sort_values(['h','mwp'],ascending=[True,False]).astype(float)\n",
    "df_Ed['E_cs'] =df_Ed.groupby('h')['E'].transform('cumsum')"
   ]
  },
  {
   "cell_type": "markdown",
   "id": "c35c4312-4b54-4a77-a453-0e3e495c7072",
   "metadata": {},
   "source": [
    "And now we can plot it:"
   ]
  },
  {
   "cell_type": "code",
   "execution_count": null,
   "id": "df09f8b9-8c9c-42c2-9a1f-83edfbedb14a",
   "metadata": {
    "tags": []
   },
   "outputs": [],
   "source": [
    "fig, ax = plt.subplots(ncols=2,sharex=True,sharey=True)\n",
    "for i in range(len(h_grid)):\n",
    "    h = h_grid[i]\n",
    "    ax[i].step(df_Ed.xs(h,level='h')['E_cs'],df_Ed.xs(h,level='h')['mwp'])\n",
    "    ax[i].set_title(r'$h=$'+str(h))\n",
    "    \n",
    "[ax[i].set_xlabel('MWh') for i in [0,1]];\n",
    "ax[0].set_xlim(left=0)\n",
    "ax[0].set_ylabel('Euros/MWh')\n",
    "fig.tight_layout()\n",
    "fig.savefig(f\"{figs_path}\\\\E2.2_sol.png\", edgecolor='k',bbox_inches='tight')"
   ]
  },
  {
   "cell_type": "markdown",
   "id": "4f9b6564-80a8-4803-93fe-3d40d618caa2",
   "metadata": {},
   "source": [
    "## E2.3"
   ]
  },
  {
   "cell_type": "markdown",
   "id": "6b056df8-7b2e-4e00-a1e3-71fdc5b23da4",
   "metadata": {},
   "source": [
    "__Compute and illustrate the hourly supply curve (i.e. the merit order curve) for electricity for hours $h=\\{1,5\\}$. Include also the demand curve and the optimal value ${\\lambda^E_h}^*$.__\n",
    "\n",
    "*Hint: The figure should look something like this:*"
   ]
  },
  {
   "cell_type": "code",
   "execution_count": null,
   "id": "235d3345-6468-4dea-9866-462f220c7388",
   "metadata": {
    "tags": []
   },
   "outputs": [],
   "source": [
    "Image(os.path.join(figs_path,'E2.3_sol.png'))"
   ]
  },
  {
   "cell_type": "markdown",
   "id": "6d24bd0a-7b3f-4504-a3b0-29d60f6476c5",
   "metadata": {},
   "source": [
    "---\n",
    "___Answer:___\n",
    "\n",
    "First, the electricity generating capacities are"
   ]
  },
  {
   "cell_type": "code",
   "execution_count": null,
   "id": "5694b202-b28b-4054-a695-0413edab0646",
   "metadata": {
    "tags": []
   },
   "outputs": [],
   "source": [
    "ECap = m.hourlyGeneratingCap_E.loc[E_id,:]"
   ]
  },
  {
   "cell_type": "markdown",
   "id": "43b2818d-0e66-4877-92fb-2c0ec55015ee",
   "metadata": {
    "tags": []
   },
   "source": [
    "Using the answer in [E1.4](#E1.4), we can compute back-pressure plants' reservation price for electricity as:"
   ]
  },
  {
   "cell_type": "code",
   "execution_count": null,
   "id": "68c28912-c967-446d-bfa8-daf47fd8bf0e",
   "metadata": {
    "tags": []
   },
   "outputs": [],
   "source": [
    "rE_BP = pd.Series(0,index=ECap.loc[BP_id,:].index).sub(m.db['marginalSystemCosts_H'].droplevel('g')).div(db['E2H'].loc[BP_id]).add(m.db['mc'].loc[BP_id])"
   ]
  },
  {
   "cell_type": "markdown",
   "id": "b7f11ca1-7845-4617-8904-fbfff115d607",
   "metadata": {},
   "source": [
    "The reservation price for standard electricity producing plants are"
   ]
  },
  {
   "cell_type": "code",
   "execution_count": null,
   "id": "b4c1dcc1-f048-41e3-b5d2-726967dbe14e",
   "metadata": {
    "tags": []
   },
   "outputs": [],
   "source": [
    "rE_Std = pd.Series(0,index=ECap.loc[StdE_id,:].index).add(m.db['mc'].loc[StdE_id])"
   ]
  },
  {
   "cell_type": "markdown",
   "id": "0a449223-ef44-4780-b134-08af36491383",
   "metadata": {
    "tags": []
   },
   "source": [
    "Finally, we can build the supply frame:"
   ]
  },
  {
   "cell_type": "code",
   "execution_count": null,
   "id": "a8c54053-fa9f-45e1-af53-28c0c338420e",
   "metadata": {
    "tags": []
   },
   "outputs": [],
   "source": [
    "df_Es = pd.concat([\n",
    "    ECap.rename('E').astype(float),\n",
    "    pd.concat([rE_BP,rE_Std],axis=0).rename('r').astype(float)\n",
    "],axis=1)\n",
    "mi_Es_lo = pd.MultiIndex.from_product([['0'],db['h']],names=df_Hs.index.names)\n",
    "df_Es_lo = pd.concat([\n",
    "    pd.Series(0,index=mi_Es_lo).rename('E'),\n",
    "    pd.Series(df_Es.groupby('h')['r'].min().sub(ϵ).values,index=mi_Es_lo,name='r')\n",
    "],axis=1)\n",
    "mi_Es_up = pd.MultiIndex.from_product([['-1'],db['h']],names=df_Es.index.names)\n",
    "df_Es_up = pd.concat([\n",
    "    pd.Series(ϵ,index=mi_Es_up).rename('E'),\n",
    "    pd.Series(m.db['MWP_E']*1.1,index=mi_Hs_up,name='r')\n",
    "],axis=1)\n",
    "df_Es = pd.concat([df_Es,df_Es_up,df_Es_lo],axis=0).sort_values(['h','r'])\n",
    "df_Es['E_cs'] = df_Es.groupby('h')['E'].transform('cumsum')"
   ]
  },
  {
   "cell_type": "markdown",
   "id": "2fe12326-d678-4674-bac4-ac1df67e6262",
   "metadata": {},
   "source": [
    "And then plot the equilibrium for the two hours:"
   ]
  },
  {
   "cell_type": "code",
   "execution_count": null,
   "id": "140c8eb1-afb4-4740-ab4b-95dd996207a6",
   "metadata": {
    "tags": []
   },
   "outputs": [],
   "source": [
    "fig, ax = plt.subplots(ncols=2,sharex=True,sharey=False)\n",
    "for i in range(len(h_grid)):\n",
    "    h = h_grid[i]\n",
    "    # Demand curve:\n",
    "    ax[i].step(df_Ed.xs(h,level='h')['E_cs'],df_Ed.xs(h,level='h')['mwp'])\n",
    "    # Supply curve:\n",
    "    ax[i].step(df_Es.xs(h,level='h')['E_cs'],df_Es.xs(h,level='h')['r'])\n",
    "    # Horizontal line indicating the equilibrium price\n",
    "    ax[i].hlines(xmin=0,xmax=df_Ed.xs(h,level='h')['E'].sum(),y=m.db['marginalSystemCosts_E'].xs(h,level='h').iloc[0],color='black',linestyle='--')\n",
    "    ax[i].set_title(r'$h=$'+str(h))\n",
    "    \n",
    "[ax[i].set_xlabel('MWh') for i in [0,1]];\n",
    "ax[0].set_ylabel('Euros/MWh')\n",
    "fig.legend(['Supply','Demand','Marginal System Costs'],loc='lower center', bbox_to_anchor=(0.5, -0.05), ncol=3, frameon=True)\n",
    "fig.tight_layout()\n",
    "fig.savefig(f\"{figs_path}\\\\E2.3_sol.png\", edgecolor='k',bbox_inches='tight')"
   ]
  },
  {
   "cell_type": "markdown",
   "id": "e8507976-31fb-4a65-a1bd-c478b5cd14b1",
   "metadata": {
    "tags": []
   },
   "source": [
    "## E2.4"
   ]
  },
  {
   "cell_type": "markdown",
   "id": "cbf417e2-6182-4309-ad59-570149ac89e5",
   "metadata": {},
   "source": [
    "In this exercise you are asked to simulate the effects of increasing the heat pump capacity. We will do so by solving the model over of an exogenous grid of the heat pump capacity. For making the grid, the `pyDbs` package has a class called `adjMultiIndex`, which has a function called _addGrid_. It takes the four centrale arguments:\n",
    "\n",
    "```python\n",
    "adjMultiIndex.addGrid(v0,vT,index,name)\n",
    "```\n",
    "where \n",
    "- v0 is a Pandas Index specifying the first element of the grid. \n",
    "- vT is a Pandas Index specifying the last element of the grid.\n",
    "- index is a Pandas Index specifying the number points in the gridd.\n",
    "- name is the name of the variable, we are changing. \n",
    "\n",
    "The following makes the grid:"
   ]
  },
  {
   "cell_type": "code",
   "execution_count": null,
   "id": "a08f78cc-8901-4e4a-a3bd-e82c87ba215f",
   "metadata": {},
   "outputs": [],
   "source": [
    "loop = pd.Index(range(11), name = 'l1')\n",
    "v0 = pd.Series(0.01, index = pd.Index(['g1_HP'], name = 'id'), name = 'GeneratingCap_H')\n",
    "vT = v0+100\n",
    "grid = adjMultiIndex.addGrid(v0,vT,index=loop,name='GeneratingCap_H')"
   ]
  },
  {
   "cell_type": "markdown",
   "id": "23042016-d3b5-405d-add4-70d89fe6a7ba",
   "metadata": {},
   "source": [
    "__Now use the 'loopSolveExtract'-function in the `modelShell`-class to solve the model of the exogenous grid. Furthermore, extract the following list of variables:__\n",
    "```python\n",
    "extract = [\n",
    "    'meanConsumerPrice_E','meanConsumerPrice_H', # average yearly consumer prices\n",
    "    'marginalEconomicValue' # marginal economic value of capacity\n",
    "]\n",
    "```"
   ]
  },
  {
   "cell_type": "markdown",
   "id": "953a966f-82e4-4976-baff-804c4963c77f",
   "metadata": {},
   "source": [
    "---\n",
    "___Answer:___"
   ]
  },
  {
   "cell_type": "code",
   "execution_count": null,
   "id": "092a40e8-fad4-4548-bd84-8ad6301772f9",
   "metadata": {},
   "outputs": [],
   "source": [
    "extract = [\n",
    "    'meanConsumerPrice_E','meanConsumerPrice_H',\n",
    "    'marginalEconomicValue'\n",
    "]\n",
    "solution = m.loopSolveExtract(loop, [grid], extract)"
   ]
  },
  {
   "cell_type": "markdown",
   "id": "e26c31d8-3f65-4399-b480-c06aa1420071",
   "metadata": {},
   "source": [
    "## E2.5"
   ]
  },
  {
   "cell_type": "markdown",
   "id": "80103fed-75a9-4ea4-81ab-3d37e072dbef",
   "metadata": {
    "tags": []
   },
   "source": [
    "Consider the following figure illustrating the _marginal economic value of generating capacity_ as a function of installed heat pump capacity split into electricity generators $(i\\in\\mathcal{I}^{E})$, heat generators $(i\\in\\mathcal{I}^{H})$, and back-pressure plants $(i\\in\\mathcal{I}^{BP})$:"
   ]
  },
  {
   "cell_type": "code",
   "execution_count": null,
   "id": "222b0c35-cc5a-4690-bebc-53d61250ae4c",
   "metadata": {
    "tags": []
   },
   "outputs": [],
   "source": [
    "Image(os.path.join(figs_path,'E2.5_sol.png'))"
   ]
  },
  {
   "cell_type": "markdown",
   "id": "64f127fb-1903-44bf-bebc-f7e5a4862932",
   "metadata": {
    "tags": []
   },
   "source": [
    "__Define the marginal economic value of capacity and explain the effect of the heat pump capacity on the marginal economic value of generating capacity for (i) electricity producing plants, (ii) heat generating plants, and (iii) back-pressure plants.__"
   ]
  },
  {
   "cell_type": "markdown",
   "id": "911e413c-2eb0-41b9-8e59-cf9ac65f1490",
   "metadata": {},
   "source": [
    "___Asnwer:___\n",
    "\n",
    "The marginal economic value of capacity (MEVoC) is defined by differentiating the Lagrangian function defined in [E1.2](#E1.2) with respect to the relevant capacity variable. For standard electricity producing plants, we have that\n",
    "\\begin{align*}\n",
    "    \\forall i\\in\\mathcal{I}^E: && \\dfrac{\\partial \\mathcal{L}}{\\partial q_i} &= -\\text{FOM}_i +\\sum_h \\overline{\\theta}_{i,h}^E \\frac{\\partial q_{i,h}}{\\partial q_i} \\\\\n",
    "    && &=-\\text{FOM}_i + \\sum_h \\overline{\\theta}_{i,h}^E\\gamma_{i,h},\n",
    "\\end{align*}\n",
    "where $\\overline{\\theta}_{i,h}^E$ is the shadow price on the constraint $E_{i,h}\\leq q_{i,h}$. $\\overline{\\theta}_{i,h}^E>0$ only if the constraint is binding, which -- according to eq. (2a) -- is the case when $\\lambda_h^E-c_i>0$. Hence,\n",
    "\\begin{align*}\n",
    "    \\forall i\\in\\mathcal{I}^E: && \\dfrac{\\partial \\mathcal{L}}{\\partial q_i} &= -\\text{FOM}_i + \\sum_h \\max\\left\\{ \\lambda_h^E - c_i, 0 \\right\\}\\gamma_{i,h},\n",
    "\\end{align*}\n",
    "It is quite easy to show that this expression is equal to the maximized profits a standard electricity plant. \n",
    "\n",
    "Similarly, it is possible to show that\n",
    "\\begin{align*}\n",
    "    \\forall i\\in\\mathcal{I}^{BP}: && \\dfrac{\\partial \\mathcal{L}}{\\partial q_i} &= -\\text{FOM}_i + \\sum_h \\max\\left\\{ \\lambda_h^E +\\frac{\\lambda_h^E}{\\nu_i}- c_i, 0 \\right\\}\\gamma_{i,h} \\\\\n",
    "    \\forall i\\in\\mathcal{I}^{H}: && \\dfrac{\\partial \\mathcal{L}}{\\partial q_i} &= -\\text{FOM}_i + \\sum_h \\max\\left\\{ \\lambda_h^H- c_i, 0 \\right\\}\\gamma_{i,h} \\\\\n",
    "    \\forall i\\in\\mathcal{I}^{HP}: && \\dfrac{\\partial \\mathcal{L}}{\\partial q_i} &= -\\text{FOM}_i + \\sum_h \\max\\left\\{ \\lambda_h^H +\\nu_i\\lambda_h^E- c_i, 0 \\right\\}\\gamma_{i,h}, \\\\\n",
    "\\end{align*}\n",
    "\n",
    "Hence, chances in MEVoC occurs via marginal system costs $(\\lambda_h^E,\\lambda_h^H)$. \n",
    "\n",
    "Generally speaking, we can interpret the increasing heat pump capacity as a positive electricity demand shock and a positive heat supply shock. Hence, we expect electricity prices to go up and heat prices to decrease. Using the expressions above, this should translate into\n",
    "- a larger MEVoC for $i\\in\\mathcal{I}^E$, which is also evident in the figure.\n",
    "- a smaller MEVoC for $i\\in\\mathcal{I}^H$, which is also evident in the figure.\n",
    "- an ambigous effect MEVoC for $i\\in\\mathcal{I}^{BP}$:\n",
    "    - Firstly, if heat prices are more quickly decreasing than increases in electricity prices, then MEVoC will decrease all else equal. \n",
    "    - Secondly, if $\\nu_i$ is relatively large -- so that unit revenues from heat generation matters relatively more -- then it is more likely that MEVoC decreases. This is also evident in the figure since the biomass-fired back-pressure plant has the highest value of $\\nu_i$ and has the lowest MEVoC.\n",
    "\n",
    "For the back-pressure plants, we also see from the figure that heat prices must generally be decreasing faster than electricity prices are increasing, since the MEVoC of back-pressure plants are decreasing in the heat pump capacity. We can confirm that this is the case by looking af the average yearly prices as a function of the heat pump capacity:"
   ]
  },
  {
   "cell_type": "code",
   "execution_count": null,
   "id": "26c827b1-2000-4cb9-89bd-38817de63ef8",
   "metadata": {
    "tags": []
   },
   "outputs": [],
   "source": [
    "fig,ax = plt.subplots(ncols=2,sharex=True, sharey=True)\n",
    "ax[0].plot(grid.values,solution['meanConsumerPrice_E'])\n",
    "ax[0].set_title(r'Electricity market')\n",
    "ax[1].plot(grid.values,solution['meanConsumerPrice_H'])\n",
    "ax[1].set_title(r'Heat market')\n",
    "[ax[i].set_xlabel('Heat pump capacity') for i in range(2)];\n",
    "ax[0].set_ylabel('Euros/MWh')\n",
    "fig.tight_layout()"
   ]
  },
  {
   "cell_type": "markdown",
   "id": "0d981243-cb47-43d1-ab25-bc31e6e555c1",
   "metadata": {},
   "source": [
    "When electricity prices does not increase rapidly it is because electricity supply is relatively elastic at the optimal value of $\\lambda^E$: For a larger demand, supply quickly adjusts for even relatively small price increases. \n",
    "\n",
    "Furthermore, heat prices decreases rapidly \n",
    "- first and foremost because demand is perfectly elastic and does not adjust in response to lower heat prices (from the positive supply shock),\n",
    "- but also because the price decreases are exacerbated by heat supply being relatively inelastic at the optimal value of $\\lambda^H$. Even small supply shocks causes prices to decrease relatively much.  "
   ]
  },
  {
   "cell_type": "markdown",
   "id": "070b4f90-975f-4501-b3c5-2c4ffcfae607",
   "metadata": {},
   "source": [
    "*Note that the code for generating the MEVoC is:*"
   ]
  },
  {
   "cell_type": "code",
   "execution_count": null,
   "id": "c4a08ade-5c1c-4094-96d4-9e106abf12a8",
   "metadata": {
    "tags": []
   },
   "outputs": [],
   "source": [
    "%%capture\n",
    "# Collect values:\n",
    "mev = solution['marginalEconomicValue'].unstack('id')\n",
    "mev.index =  pd.Index(grid.values, name = 'Heat pump capacity')\n",
    "mev0 = mev.iloc[0]\n",
    "\n",
    "# Split the value into three components:\n",
    "mev_H = mev.loc[:,mev.columns.isin(id2modelTech.reset_index()[id2modelTech.reset_index()['modelTech'].isin(['standard_H','HP'])].id)]\n",
    "mev_E = mev.loc[:,mev.columns.isin(id2modelTech.reset_index()[id2modelTech.reset_index()['modelTech'].isin(['standard_E'])].id)]\n",
    "mev_BP = mev.loc[:,mev.columns.isin(id2modelTech.reset_index()[id2modelTech.reset_index()['modelTech'].isin(['BP'])].id)]\n",
    "mevs = [mev_E,mev_H,mev_BP]\n",
    "\n",
    "# Index values\n",
    "for j in range(len(mevs)):\n",
    "    p = mevs[j]\n",
    "    p.columns=p.columns.str.strip('g1_')\n",
    "    mevs[j] = p.reindex(p.iloc[0].sort_values(ascending=False).index, axis = 1).div(p.iloc[0],axis=1)*100 # sort columns by the value at index 0\n",
    "\n",
    "# Now plot\n",
    "# mult_graphs()\n",
    "fig,ax = plt.subplots(nrows=3,sharex=True, sharey=True)\n",
    "[mevs[i].plot(ax=ax[i], ylabel='Index=100') for i in range(0,3)];\n",
    "[ax[i].legend(loc='center right', bbox_to_anchor=(1.3, 0.5), ncol=1, frameon=True) for i in range(0,3)];\n",
    "ax[0].set_title(r'Electricity generators, $i\\in\\mathcal{I}^{E}$')\n",
    "ax[1].set_title(r'Heat generators, $i\\in\\mathcal{I}^{H}$')\n",
    "ax[2].set_title(r'Back-pressure plants, $i\\in\\mathcal{I}^{BP}$')\n",
    "fig.tight_layout()\n",
    "fig.savefig(f\"{figs_path}\\\\E2.5_sol.png\", edgecolor='k',bbox_inches='tight')"
   ]
  }
 ],
 "metadata": {
  "kernelspec": {
   "display_name": "Python 3 (ipykernel)",
   "language": "python",
   "name": "python3"
  },
  "language_info": {
   "codemirror_mode": {
    "name": "ipython",
    "version": 3
   },
   "file_extension": ".py",
   "mimetype": "text/x-python",
   "name": "python",
   "nbconvert_exporter": "python",
   "pygments_lexer": "ipython3",
   "version": "3.9.13"
  },
  "toc-autonumbering": false,
  "toc-showcode": true,
  "toc-showmarkdowntxt": false
 },
 "nbformat": 4,
 "nbformat_minor": 5
}
